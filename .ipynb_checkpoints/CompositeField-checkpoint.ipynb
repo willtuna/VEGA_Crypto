{
 "cells": [
  {
   "cell_type": "code",
   "execution_count": 1,
   "metadata": {},
   "outputs": [],
   "source": [
    "import random\n",
    "import numpy as np\n",
    "import math\n",
    "import copy\n",
    "import matplotlib.pyplot as plt\n",
    "import pickle\n",
    "from datetime import datetime\n",
    "random.seed(datetime.now())"
   ]
  },
  {
   "cell_type": "markdown",
   "metadata": {},
   "source": [
    "# Basic Tool"
   ]
  },
  {
   "cell_type": "code",
   "execution_count": 2,
   "metadata": {},
   "outputs": [],
   "source": [
    "def array2int(array):\n",
    "    tmp = 0\n",
    "    for idx in range(array.size):\n",
    "        tmp = tmp + 2**idx*array[idx]\n",
    "    return tmp"
   ]
  },
  {
   "cell_type": "markdown",
   "metadata": {},
   "source": [
    "# Error Correction Code Method"
   ]
  },
  {
   "cell_type": "markdown",
   "metadata": {},
   "source": [
    "## Build Up $GF(2^8)$ Table"
   ]
  },
  {
   "cell_type": "code",
   "execution_count": 3,
   "metadata": {},
   "outputs": [],
   "source": [
    "def Build_GF_log_Table_with_GF_exp_Table(GF_a_exp_Table_int):\n",
    "    log_Table = {int(value):int(key) for key,value in GF_a_exp_Table_int.items()}\n",
    "    # Since log_Table could not find log(0) , we define log(0) would be none in exponenet form\n",
    "    log_Table[0]=None\n",
    "    return log_Table"
   ]
  },
  {
   "cell_type": "markdown",
   "metadata": {},
   "source": [
    "### GF_mult()\n",
    "\n",
    "### result = $\\alpha^{x\\_exp}\\alpha^{y\\_exp}=\\alpha^{(x\\_exp+y\\_exp)\\%(2^n-1)}$"
   ]
  },
  {
   "cell_type": "code",
   "execution_count": 4,
   "metadata": {},
   "outputs": [],
   "source": [
    "def GF_mult_tb(x,y,n,GF_log_a_Table_int):# Verified\n",
    "    n = int(n)\n",
    "    #  x,y in GF(2^n)\n",
    "    \n",
    "    if x == 0 or y == 0 :# for 0 case\n",
    "        return 0\n",
    "        \n",
    "    modulus = (1<<n)-1\n",
    "    x_exp = GF_log_a_Table_int[x]\n",
    "    y_exp = GF_log_a_Table_int[y]\n",
    "    \n",
    "    result_exp = (x_exp + y_exp)%(modulus) # Because x^(2**n-1) = 1, so (2**n -1) equivalent to 0\n",
    "    return GF_a_exp_Table_int[result_exp]"
   ]
  },
  {
   "cell_type": "code",
   "execution_count": 5,
   "metadata": {},
   "outputs": [],
   "source": [
    "def GF_Table_Generation_with_irr(alpha_int,irr_int):\n",
    "    table = {}\n",
    "    for i in range(255):\n",
    "        table[i]= GF_2_8_exp(alpha=alpha_int,exp=i,irr_int=irr_int)\n",
    "    return table"
   ]
  },
  {
   "cell_type": "markdown",
   "metadata": {},
   "source": [
    "# Cryptography Method"
   ]
  },
  {
   "cell_type": "markdown",
   "metadata": {},
   "source": [
    "# AES Galois Field Polynomial:\n",
    "### $GF(2^8)$=$\\frac{F_2[x]}{irr(x)}$\n",
    "## $$irr(x) = 1+x+x^3+x^4+x^8$$\n",
    "    "
   ]
  },
  {
   "cell_type": "code",
   "execution_count": 6,
   "metadata": {},
   "outputs": [],
   "source": [
    "n=8\n",
    "AES_irr_arr = np.asarray([1,1,0,1,1,0,0,0,1])\n",
    "#                         0 1 2 3 4 5 6 7 8\n",
    "AES_irr_int = array2int(AES_irr_arr)\n",
    "\n",
    "AES_irr_list = [1,1,0,1,1,0,0,0,1]"
   ]
  },
  {
   "cell_type": "markdown",
   "metadata": {},
   "source": [
    "## Do the Exponentiaition in $GF(2^8)$"
   ]
  },
  {
   "cell_type": "code",
   "execution_count": 7,
   "metadata": {},
   "outputs": [],
   "source": [
    "def GF_irr_exp(alpha,exp,irr_int,n):\n",
    "    tmp = 1\n",
    "    for i in range(1,exp+1):\n",
    "        tmp = GF_mult_irr(alpha,tmp,irr_int,n)\n",
    "    return tmp"
   ]
  },
  {
   "cell_type": "markdown",
   "metadata": {},
   "source": [
    "## Do the Multiplication in $GF(2^8)$"
   ]
  },
  {
   "cell_type": "markdown",
   "metadata": {},
   "source": [
    "### Poly_Mult_GF()"
   ]
  },
  {
   "cell_type": "code",
   "execution_count": 8,
   "metadata": {},
   "outputs": [],
   "source": [
    "def Poly_Mult_lst(poly1,poly2):\n",
    "    poly1_size = len(poly1)\n",
    "    poly1_deg  = poly1_size-1\n",
    "    poly2_size = len(poly2)\n",
    "    poly2_deg  = poly2_size-1\n",
    "    \n",
    "    result = [0]*(poly1_size+poly2_size-1)\n",
    "    \n",
    "    for idx1 in range(poly1_size):\n",
    "        for idx2 in range(poly2_size):\n",
    "            current_idx = idx1 + idx2\n",
    "            result[current_idx]= result[current_idx] ^ (poly1[idx1]&poly2[idx2])\n",
    "    return result    "
   ]
  },
  {
   "cell_type": "code",
   "execution_count": 9,
   "metadata": {},
   "outputs": [],
   "source": [
    "def GF_mult_irr_list(poly1_lm,poly2_lm,irr_poly_lm):\n",
    "    \n",
    "    poly1_arr = np.asarray(poly1_lm)\n",
    "    poly2_arr = np.asarray(poly2_lm)\n",
    "    irr_arr   = np.asarray(irr_poly_lm)[::-1]\n",
    "    \n",
    "    poly1_size = len(poly1_lm)\n",
    "    poly1_deg  = poly1_size-1\n",
    "    poly2_size = len(poly2_lm)\n",
    "    poly2_deg  = poly2_size-1\n",
    "    \n",
    "    result = np.asarray([0]*(poly1_size+poly2_size-1))\n",
    "    \n",
    "    for idx1 in range(poly1_size):\n",
    "        for idx2 in range(poly2_size):\n",
    "            current_idx = idx1 + idx2\n",
    "            result[current_idx]= result[current_idx] ^ (poly1_arr[idx1] & poly2_arr[idx2])\n",
    "            \n",
    "    result = result[::-1]# from highest degree to lowest\n",
    "    #print(\"remainder:\",result)\n",
    "            \n",
    "    for idx,val in enumerate(result):\n",
    "        if idx > (result.size - irr_arr.size):\n",
    "            break\n",
    "        if val == 1:\n",
    "            result[idx:idx+irr_arr.size] = result[idx:idx+irr_arr.size] ^ irr_arr\n",
    "            #print(\"remainder:\",result)\n",
    "            #print(\"divisor:\",irr_arr)\n",
    "            \n",
    "    return result[::-1] # lsb_msb"
   ]
  },
  {
   "cell_type": "code",
   "execution_count": 10,
   "metadata": {},
   "outputs": [],
   "source": [
    "def GF_mult_irr(x,y,irr,n):\n",
    "    \n",
    "    poly1    = [int(val) for val in \"{0:08b}\".format(x) ][::-1][:n]\n",
    "    poly2    = [int(val) for val in \"{0:08b}\".format(y) ][::-1][:n]\n",
    "    irr_poly = [int(val) for val in \"{0:08b}\".format(irr) ][::-1][:n+1]\n",
    "#    print(\"poly1\",poly1)\n",
    "#    print(\"poly2\",poly2)\n",
    "#    print(\"irr_poly\",irr_poly)\n",
    "    \n",
    "    poly1xpoly2_lst = GF_mult_irr_list(poly1_lm=poly1,poly2_lm=poly2,irr_poly_lm=irr_poly)\n",
    "            \n",
    "            \n",
    "    return array2int(poly1xpoly2_lst)"
   ]
  },
  {
   "cell_type": "markdown",
   "metadata": {},
   "source": [
    "# Polynomial Divider"
   ]
  },
  {
   "cell_type": "code",
   "execution_count": 11,
   "metadata": {},
   "outputs": [],
   "source": [
    "def GF_divide_irr_int(x,irr,n):\n",
    "    poly1   = [int(val) for val in \"{0:08b}\".format(x) ][8-n:]\n",
    "    irr_poly= [int(val) for val in \"{0:08b}\".format(irr) ][8-n:]\n",
    "    \n",
    "    poly1_arr = np.asarray(poly1)\n",
    "    irr_arr   = np.asarray(irr_poly)\n",
    "    \n",
    "    poly1_size = len(poly1)\n",
    "    poly1_deg  = poly1_size-1\n",
    "    \n",
    "    remainder = copy.deepcopy(poly1_arr)\n",
    "    quotient  = []\n",
    "            \n",
    "    for idx,val in enumerate(remainder):\n",
    "        if (poly1_deg-idx) <= 7:\n",
    "            break\n",
    "        if val == 1:\n",
    "            #print(\"remainder:\",result)\n",
    "            #print(\"divisor  :\",irr_arr)\n",
    "            quotient.append(1)\n",
    "            remainder[idx:idx+9] = remainder[idx:idx+9] ^ irr_arr\n",
    "            \n",
    "    quotient =  np.asarray(quotient)[::-1]\n",
    "            \n",
    "    return array2int(remainder[::-1])"
   ]
  },
  {
   "cell_type": "code",
   "execution_count": 12,
   "metadata": {},
   "outputs": [],
   "source": [
    "def Binary_divide_poly_lst(dividend_l_m,divisor_l_m):\n",
    "    \n",
    "    dividend_arr = np.asarray(Poly_decorator(dividend_l_m))[::-1]# turn to msb -> lsb\n",
    "    divisor_arr  = np.asarray(Poly_decorator(divisor_l_m))[::-1]\n",
    "    \n",
    "    divisor_deg  = divisor_arr.size - 1\n",
    "    divisor_size = divisor_arr.size\n",
    "    \n",
    "    \n",
    "    remainder = copy.deepcopy(dividend_arr)\n",
    "    quotient  = []\n",
    "            \n",
    "    for idx,val in enumerate(remainder):\n",
    "        if (dividend_arr.size - idx) <= divisor_deg:\n",
    "            break\n",
    "        \n",
    "        if val == 1:\n",
    "            quotient.append(1)\n",
    "            remainder[idx:idx+divisor_size] = remainder[idx:idx+divisor_size] ^ divisor_arr\n",
    "        else:\n",
    "            quotient.append(0)\n",
    "            \n",
    "    remainder = Poly_decorator(remainder[::-1])\n",
    "            \n",
    "    return remainder.tolist(),quotient[::-1]"
   ]
  },
  {
   "cell_type": "markdown",
   "metadata": {},
   "source": [
    "# Polynomial Addition in GF"
   ]
  },
  {
   "cell_type": "code",
   "execution_count": 13,
   "metadata": {},
   "outputs": [],
   "source": [
    "def Poly_Add_GF_lst(poly1_l_m,poly2_l_m):#Verified\n",
    "    if len(poly1_l_m) > len(poly2_l_m):\n",
    "        large_poly = copy.deepcopy(poly1_l_m)\n",
    "        small_poly = copy.deepcopy(poly2_l_m)\n",
    "    else:\n",
    "        large_poly = copy.deepcopy(poly2_l_m)\n",
    "        small_poly = copy.deepcopy(poly1_l_m)\n",
    "        \n",
    "    result = large_poly\n",
    "    for idx,val in enumerate(small_poly):\n",
    "        result[idx] = result[idx] ^ small_poly[idx]\n",
    "    return result"
   ]
  },
  {
   "cell_type": "code",
   "execution_count": 14,
   "metadata": {},
   "outputs": [],
   "source": [
    "def GF_order(alpha,irr_int,n):    \n",
    "    for i in range(1,2**n):\n",
    "        if GF_irr_exp(alpha=alpha,exp=i,irr_int=irr_int,n=n) == 1:\n",
    "            print(\"Ord(\",alpha,\") = \",i)\n",
    "            return i"
   ]
  },
  {
   "cell_type": "code",
   "execution_count": 15,
   "metadata": {},
   "outputs": [],
   "source": [
    "def poly_deg(poly):\n",
    "    # return the degree of polynomial\n",
    "    size = len(poly)\n",
    "    if size == 0:\n",
    "        return None\n",
    "    \n",
    "    for idx in range(size-1,-1,-1):\n",
    "        if poly[idx] == 0:\n",
    "            continue\n",
    "        else:\n",
    "            return idx\n",
    "    return 0"
   ]
  },
  {
   "cell_type": "code",
   "execution_count": 16,
   "metadata": {},
   "outputs": [],
   "source": [
    "def Poly_decorator(poly):\n",
    "    # truncate the redundant zero in higher degree\n",
    "    size = len(poly)\n",
    "    for i in range(size-1,-1,-1):\n",
    "        if poly[i] == 0:\n",
    "            continue\n",
    "        else:\n",
    "            return poly[:i+1]\n",
    "    return [0]"
   ]
  },
  {
   "cell_type": "code",
   "execution_count": 17,
   "metadata": {
    "scrolled": true
   },
   "outputs": [],
   "source": [
    "def Evaluation(Poly,sub_val,irr,n):\n",
    "    result = 0\n",
    "    for exp,val in enumerate(Poly):\n",
    "        if val == 1:# Do the Exponentiation\n",
    "            tmp = 1\n",
    "            for itr in range(exp):\n",
    "                tmp = GF_mult_irr(tmp,sub_val,irr,n)\n",
    "            result = result ^ tmp\n",
    "    return result"
   ]
  },
  {
   "cell_type": "markdown",
   "metadata": {},
   "source": [
    "### GF_inv()\n",
    "- Extended Euclidean Version"
   ]
  },
  {
   "cell_type": "code",
   "execution_count": 18,
   "metadata": {},
   "outputs": [],
   "source": [
    "def Extendend_Euclidean(modulus_lst_l_m,alpha_lst_l_m):# Error Overhere\n",
    "    # as + bt = c\n",
    "    a = modulus_lst_l_m\n",
    "    b = alpha_lst_l_m\n",
    "    r_prev = a\n",
    "    r_cur  = b\n",
    "    s_prev = [1]\n",
    "    s_cur  = [0]\n",
    "    t_prev = [0]\n",
    "    t_cur  = [1]\n",
    "    itr = 0\n",
    "    \n",
    "    while poly_deg(r_cur) >= 1 :\n",
    "        \n",
    "        itr = itr +1\n",
    "        rem, q = Binary_divide_poly_lst(dividend_l_m=r_prev,divisor_l_m=r_cur)\n",
    "        \n",
    "        #print(\"r_prev =\",r_prev)\n",
    "        #print(\"q*r_cur + rem =\",Poly_Add_GF_lst(Poly_Mult_lst(r_cur,q),rem))\n",
    "        \n",
    "        r_cur, r_prev = rem, r_cur\n",
    "        \n",
    "        s_cur,s_prev  = Poly_Add_GF_lst( s_prev ,Poly_Mult_lst(poly1=q,poly2=s_cur)) , s_cur\n",
    "        t_cur,t_prev  = Poly_Add_GF_lst( t_prev ,Poly_Mult_lst(poly1=q,poly2=t_cur)) , t_cur\n",
    "        \n",
    "        #print(\"modulus*s + test*t =\",Poly_Add_GF_lst(Poly_Mult_lst(s_cur,modulus_lst_l_m),Poly_Mult_lst(test,t_cur)))\n",
    "        #print(\"rem =\", r_cur)\n",
    "        \n",
    "    # modulus * s_cur +  alpha_lst * t_cur = r_cur\n",
    "    return s_cur , t_cur, r_cur"
   ]
  },
  {
   "cell_type": "code",
   "execution_count": 19,
   "metadata": {},
   "outputs": [],
   "source": [
    "test=[1, 1, 1, 0, 0, 0, 0, 0]"
   ]
  },
  {
   "cell_type": "code",
   "execution_count": 20,
   "metadata": {
    "scrolled": false
   },
   "outputs": [],
   "source": [
    "s,t,r = Extendend_Euclidean(modulus_lst_l_m=AES_irr_list,alpha_lst_l_m=test)"
   ]
  },
  {
   "cell_type": "code",
   "execution_count": 21,
   "metadata": {},
   "outputs": [
    {
     "data": {
      "text/plain": [
       "([1], [0, 1])"
      ]
     },
     "execution_count": 21,
     "metadata": {},
     "output_type": "execute_result"
    }
   ],
   "source": [
    "Binary_divide_poly_lst(Poly_Mult_lst(test,t),AES_irr_list)"
   ]
  },
  {
   "cell_type": "code",
   "execution_count": 22,
   "metadata": {},
   "outputs": [],
   "source": [
    "test_inv =t"
   ]
  },
  {
   "cell_type": "markdown",
   "metadata": {},
   "source": [
    "# Find all the roots of AES Irreducible Polynomial:"
   ]
  },
  {
   "cell_type": "markdown",
   "metadata": {},
   "source": [
    "# AES Galois Field Polynomial:\n",
    "### $GF(2^8)$=$\\frac{F_2[x]}{irr(x)}$\n",
    "## $$irr(x) = 1+x+x^3+x^4+x^8$$\n",
    "    "
   ]
  },
  {
   "cell_type": "markdown",
   "metadata": {},
   "source": [
    "# Test AES"
   ]
  },
  {
   "cell_type": "code",
   "execution_count": 23,
   "metadata": {},
   "outputs": [],
   "source": [
    "S_Matrix_lsb_msb = np.asarray( [\n",
    "[1,0,0,0,1,1,1,1],\n",
    "[1,1,0,0,0,1,1,1],\n",
    "[1,1,1,0,0,0,1,1],\n",
    "[1,1,1,1,0,0,0,1],\n",
    "[1,1,1,1,1,0,0,0],\n",
    "[0,1,1,1,1,1,0,0],\n",
    "[0,0,1,1,1,1,1,0],\n",
    "[0,0,0,1,1,1,1,1]])\n",
    "\n",
    "offset_lsb_msb = np.asarray([1,1,0,0,0,1,1,0])"
   ]
  },
  {
   "cell_type": "code",
   "execution_count": 24,
   "metadata": {},
   "outputs": [],
   "source": [
    "s,inverse_7,r = Extendend_Euclidean(modulus_lst_l_m=AES_irr_list,alpha_lst_l_m=[1,1,1,0,0,0,0,0])\n",
    "inverse_7 = np.asarray(inverse_7)\n",
    "(S_Matrix_lsb_msb.dot(inverse_7)+offset_lsb_msb)%2"
   ]
  },
  {
   "cell_type": "code",
   "execution_count": 25,
   "metadata": {},
   "outputs": [
    {
     "data": {
      "text/plain": [
       "array([1, 0, 1, 0, 0, 0, 1, 1])"
      ]
     },
     "execution_count": 25,
     "metadata": {},
     "output_type": "execute_result"
    }
   ],
   "source": []
  },
  {
   "cell_type": "code",
   "execution_count": 26,
   "metadata": {},
   "outputs": [],
   "source": [
    "x13x11x9x8x6x5x4x31=[1,0,0,1,1,1,1,0,1,1,0,1,0,1]\n",
    "x6x4x2x1=[1,1,1,0,1,0,1]\n",
    "x7x1=[1,1,0,0,0,0,0,1]"
   ]
  },
  {
   "cell_type": "code",
   "execution_count": 27,
   "metadata": {},
   "outputs": [
    {
     "data": {
      "text/plain": [
       "193"
      ]
     },
     "execution_count": 27,
     "metadata": {},
     "output_type": "execute_result"
    }
   ],
   "source": [
    "GF_divide_irr_int(11129,283,n)"
   ]
  },
  {
   "cell_type": "code",
   "execution_count": 28,
   "metadata": {},
   "outputs": [
    {
     "data": {
      "text/plain": [
       "([1, 0, 0, 0, 0, 0, 1, 1], [0, 0, 0, 1, 0, 1])"
      ]
     },
     "execution_count": 28,
     "metadata": {},
     "output_type": "execute_result"
    }
   ],
   "source": [
    "Binary_divide_poly_lst(x13x11x9x8x6x5x4x31,AES_irr_list)"
   ]
  },
  {
   "cell_type": "code",
   "execution_count": 29,
   "metadata": {},
   "outputs": [
    {
     "data": {
      "text/plain": [
       "[1, 0, 0, 1, 1, 1, 1, 0, 1, 1, 0, 1, 0, 1]"
      ]
     },
     "execution_count": 29,
     "metadata": {},
     "output_type": "execute_result"
    }
   ],
   "source": [
    "Poly_Mult_lst(x6x4x2x1,x7x1)"
   ]
  },
  {
   "cell_type": "markdown",
   "metadata": {},
   "source": [
    "#  AES S-BOX Research"
   ]
  },
  {
   "cell_type": "markdown",
   "metadata": {},
   "source": [
    "### $R(z) = z^8+z^4+z^3+z+1$"
   ]
  },
  {
   "cell_type": "code",
   "execution_count": 30,
   "metadata": {},
   "outputs": [],
   "source": [
    "AES_irr_arr = np.asarray([1,1,0,1,1,0,0,0,1])\n",
    "#                         0 1 2 3 4 5 6 7 8\n",
    "AES_irr_int = array2int(AES_irr_arr)\n",
    "\n",
    "AES_irr_list = [1,1,0,1,1,0,0,0,1]"
   ]
  },
  {
   "cell_type": "code",
   "execution_count": 31,
   "metadata": {
    "scrolled": false
   },
   "outputs": [
    {
     "name": "stdout",
     "output_type": "stream",
     "text": [
      "Root Found : 2\n",
      "Root Found : 4\n",
      "Root Found : 16\n",
      "Root Found : 27\n",
      "Root Found : 77\n",
      "Root Found : 94\n",
      "Root Found : 228\n",
      "Root Found : 250\n"
     ]
    }
   ],
   "source": [
    "for i in range(256):\n",
    "    if Evaluation(Poly=AES_irr_list,sub_val=i,irr=AES_irr_int,n=8) == 0:\n",
    "        print(\"Root Found :\", i)"
   ]
  },
  {
   "cell_type": "code",
   "execution_count": 32,
   "metadata": {},
   "outputs": [
    {
     "name": "stdout",
     "output_type": "stream",
     "text": [
      "Ord( 2 ) =  51\n",
      "ord( 2 ) 51\n",
      "Ord( 4 ) =  51\n",
      "ord( 4 ) 51\n",
      "Ord( 16 ) =  51\n",
      "ord( 16 ) 51\n",
      "Ord( 27 ) =  51\n",
      "ord( 27 ) 51\n",
      "Ord( 77 ) =  51\n",
      "ord( 77 ) 51\n",
      "Ord( 94 ) =  51\n",
      "ord( 94 ) 51\n",
      "Ord( 228 ) =  51\n",
      "ord( 228 ) 51\n",
      "Ord( 250 ) =  51\n",
      "ord( 250 ) 51\n"
     ]
    }
   ],
   "source": [
    "print(\"ord(\",2  ,\")\",GF_order(2  ,AES_irr_int,8))\n",
    "print(\"ord(\",4  ,\")\",GF_order(4  ,AES_irr_int,8))\n",
    "print(\"ord(\",16 ,\")\",GF_order(16 ,AES_irr_int,8))\n",
    "print(\"ord(\",27 ,\")\",GF_order(27 ,AES_irr_int,8))\n",
    "print(\"ord(\",77 ,\")\",GF_order(77 ,AES_irr_int,8))\n",
    "print(\"ord(\",94 ,\")\",GF_order(94 ,AES_irr_int,8))\n",
    "print(\"ord(\",228,\")\",GF_order(228,AES_irr_int,8))\n",
    "print(\"ord(\",250,\")\",GF_order(250,AES_irr_int,8))"
   ]
  },
  {
   "cell_type": "markdown",
   "metadata": {},
   "source": [
    "# $Q(y) = y^4+y+1$"
   ]
  },
  {
   "cell_type": "code",
   "execution_count": 33,
   "metadata": {},
   "outputs": [],
   "source": [
    "q_irr_arr = np.asarray([1,1,0,0,1])\n",
    "#                       0 1 2 3 4 \n",
    "q_irr_int = array2int(q_irr_arr)\n",
    "q_irr_list = [1,1,0,0,1]"
   ]
  },
  {
   "cell_type": "code",
   "execution_count": 34,
   "metadata": {
    "scrolled": true
   },
   "outputs": [
    {
     "name": "stdout",
     "output_type": "stream",
     "text": [
      "Root Found : 2\n",
      "Root Found : 3\n",
      "Root Found : 4\n",
      "Root Found : 5\n"
     ]
    }
   ],
   "source": [
    "for i in range(2**4):\n",
    "    if Evaluation(Poly=q_irr_list,sub_val=i,irr=q_irr_int,n=4) == 0:\n",
    "        print(\"Root Found :\", i)"
   ]
  },
  {
   "cell_type": "markdown",
   "metadata": {},
   "source": [
    "# $P(x) = x^2 + x + w^{14}$"
   ]
  },
  {
   "cell_type": "code",
   "execution_count": 35,
   "metadata": {},
   "outputs": [],
   "source": [
    "w14 = GF_irr_exp(alpha=2,exp=14,irr_int=q_irr_int,n=4)"
   ]
  },
  {
   "cell_type": "code",
   "execution_count": 36,
   "metadata": {},
   "outputs": [],
   "source": [
    "p_irr_arr  = np.asarray([w14,1,1])\n",
    "p_irr_list = [w14,1,1]"
   ]
  },
  {
   "cell_type": "code",
   "execution_count": 37,
   "metadata": {},
   "outputs": [],
   "source": [
    "def CF_mult(poly1_l_m,poly2_l_m,p_irr_list ,q_irr_int):\n",
    "    \n",
    "    poly_1_l_m_arr = np.asarray(poly1_l_m)\n",
    "    poly_2_l_m_arr = np.asarray(poly2_l_m)\n",
    "    poly_1_size = poly_1_l_m_arr.size\n",
    "    poly_2_size = poly_2_l_m_arr.size\n",
    "    \n",
    "    result = np.asarray([0]*(poly_1_size+poly_2_size-1))\n",
    "    \n",
    "    for idx1 in range(poly_1_size):\n",
    "        for idx2 in range(poly_2_size):\n",
    "            cur_idx = idx1 + idx2\n",
    "            result[cur_idx] = result[cur_idx] ^ (GF_mult_irr(x=poly_1_l_m_arr[idx1],y=poly_2_l_m_arr[idx2],irr=q_irr_int,n=4))\n",
    "            \n",
    "            \n",
    "    result = np.asarray(Poly_decorator(result))\n",
    "    result = result[::-1] # Reversal to MSB  to LSB \n",
    "    \n",
    "    \n",
    "    # Start the division for P\n",
    "    dividend = copy.deepcopy(result)\n",
    "    divisor  = np.asarray(p_irr_list)[::-1]\n",
    "    div_size = divisor.size\n",
    "    dividend_size = dividend.size\n",
    "    \n",
    "    div_inv_lst= [ int(val) for val in \"{0:04b}\".format(divisor[0])][::-1]\n",
    "    tmp1,inv_lst,tmp2 = Extendend_Euclidean(modulus_lst_l_m= q_irr_list, alpha_lst_l_m=div_inv_lst)\n",
    "    div_inv = array2int(np.asarray(inv_lst))\n",
    "    divisor_x_div_inv  = [GF_mult_irr(x=val,y=div_inv,irr=q_irr_int,n=4) for val in divisor]\n",
    "    #print(\"divisor_x_div_inv\",divisor_x_div_inv,\"div_inv \",div_inv,\"divisor\",divisor)\n",
    "    \n",
    "    for idx,val in enumerate(dividend):\n",
    "    #    print(\"remainder:\",dividend)\n",
    "        \n",
    "        if (idx + div_size) >  dividend_size:\n",
    "            break\n",
    "        \n",
    "        divisor_x_div_inv_MSB = [GF_mult_irr(x=val,y=dividend[idx],irr=q_irr_int,n=4) for val in divisor_x_div_inv]\n",
    "    #    print(\"divisor x q  :\",divisor_x_div_inv_MSB)\n",
    "        dividend[idx:idx+div_size] = Poly_Add_GF_lst(poly1_l_m=dividend[idx:idx+div_size],poly2_l_m=divisor_x_div_inv_MSB)\n",
    "        \n",
    "    return Poly_decorator(poly=dividend[::-1].tolist())\n",
    "        \n",
    "        "
   ]
  },
  {
   "cell_type": "code",
   "execution_count": 176,
   "metadata": {},
   "outputs": [],
   "source": [
    "def CF_mod_p_irr_lst(poly_lst_l_m,p_irr_list ,q_irr_int):\n",
    "    \n",
    "    # Start the division for P\n",
    "    dividend = np.asarray(copy.deepcopy(poly_lst_l_m))[::-1]\n",
    "    divisor  = np.asarray(p_irr_list)[::-1]\n",
    "    div_size = divisor.size\n",
    "    dividend_size = dividend.size\n",
    "    \n",
    "    div_inv_lst= [ int(val) for val in \"{0:04b}\".format(divisor[0])][::-1]\n",
    "    tmp1,inv_lst,tmp2 = Extendend_Euclidean(modulus_lst_l_m= q_irr_list, alpha_lst_l_m=div_inv_lst)\n",
    "    div_inv = array2int(np.asarray(inv_lst))\n",
    "    divisor_x_div_inv  = [GF_mult_irr(x=val,y=div_inv,irr=q_irr_int,n=4) for val in divisor]\n",
    "    #print(\"divisor_x_div_inv\",divisor_x_div_inv,\"div_inv \",div_inv,\"divisor\",divisor)\n",
    "    \n",
    "    for idx,val in enumerate(dividend):\n",
    "    #    print(\"remainder:\",dividend)\n",
    "        \n",
    "        if (idx + div_size) >  dividend_size:\n",
    "            break\n",
    "        \n",
    "        divisor_x_div_inv_MSB = [GF_mult_irr(x=val,y=dividend[idx],irr=q_irr_int,n=4) for val in divisor_x_div_inv]\n",
    "    #    print(\"divisor x q  :\",divisor_x_div_inv_MSB)\n",
    "        dividend[idx:idx+div_size] = Poly_Add_GF_lst(poly1_l_m=dividend[idx:idx+div_size],poly2_l_m=divisor_x_div_inv_MSB)\n",
    "        \n",
    "    return Poly_decorator(poly=dividend[::-1].tolist())\n",
    "        \n",
    "        "
   ]
  },
  {
   "cell_type": "code",
   "execution_count": 39,
   "metadata": {},
   "outputs": [
    {
     "data": {
      "text/plain": [
       "([1, 1, 1, 0], [0, 1, 0, 1], [1])"
      ]
     },
     "execution_count": 39,
     "metadata": {},
     "output_type": "execute_result"
    }
   ],
   "source": [
    "Extendend_Euclidean(modulus_lst_l_m=[1,1,0,0,1],alpha_lst_l_m=[0,0,1,1])"
   ]
  },
  {
   "cell_type": "code",
   "execution_count": 40,
   "metadata": {},
   "outputs": [
    {
     "data": {
      "text/plain": [
       "9"
      ]
     },
     "execution_count": 40,
     "metadata": {},
     "output_type": "execute_result"
    }
   ],
   "source": [
    "GF_mult_irr(x=3,y=7,irr=q_irr_int,n=4)"
   ]
  },
  {
   "cell_type": "code",
   "execution_count": 41,
   "metadata": {},
   "outputs": [
    {
     "data": {
      "text/plain": [
       "5"
      ]
     },
     "execution_count": 41,
     "metadata": {},
     "output_type": "execute_result"
    }
   ],
   "source": [
    "GF_mult_irr(x=9,y=10,irr=q_irr_int,n=4)"
   ]
  },
  {
   "cell_type": "code",
   "execution_count": 42,
   "metadata": {
    "scrolled": true
   },
   "outputs": [
    {
     "data": {
      "text/plain": [
       "[15, 6]"
      ]
     },
     "execution_count": 42,
     "metadata": {},
     "output_type": "execute_result"
    }
   ],
   "source": [
    "CF_mult(poly1_l_m=[3,13],poly2_l_m=[7,5],p_irr_list=[w14,1,1],q_irr_int=q_irr_int)"
   ]
  },
  {
   "cell_type": "code",
   "execution_count": 43,
   "metadata": {},
   "outputs": [
    {
     "data": {
      "text/plain": [
       "5"
      ]
     },
     "execution_count": 43,
     "metadata": {},
     "output_type": "execute_result"
    }
   ],
   "source": [
    "GF_mult_irr(x=13,y=7,irr=q_irr_int,n=4)"
   ]
  },
  {
   "cell_type": "code",
   "execution_count": 44,
   "metadata": {},
   "outputs": [
    {
     "data": {
      "text/plain": [
       "15"
      ]
     },
     "execution_count": 44,
     "metadata": {},
     "output_type": "execute_result"
    }
   ],
   "source": [
    "GF_mult_irr(x=5,y=3,irr=q_irr_int,n=4)"
   ]
  },
  {
   "cell_type": "code",
   "execution_count": 45,
   "metadata": {},
   "outputs": [
    {
     "data": {
      "text/plain": [
       "10"
      ]
     },
     "execution_count": 45,
     "metadata": {},
     "output_type": "execute_result"
    }
   ],
   "source": [
    "5 ^ 15"
   ]
  },
  {
   "cell_type": "code",
   "execution_count": 46,
   "metadata": {},
   "outputs": [
    {
     "data": {
      "text/plain": [
       "1"
      ]
     },
     "execution_count": 46,
     "metadata": {},
     "output_type": "execute_result"
    }
   ],
   "source": [
    "GF_mult_irr(x=10,y=12,irr=q_irr_int,n=4)"
   ]
  },
  {
   "cell_type": "code",
   "execution_count": 47,
   "metadata": {},
   "outputs": [
    {
     "data": {
      "text/plain": [
       "9"
      ]
     },
     "execution_count": 47,
     "metadata": {},
     "output_type": "execute_result"
    }
   ],
   "source": [
    "w14"
   ]
  },
  {
   "cell_type": "code",
   "execution_count": 48,
   "metadata": {},
   "outputs": [
    {
     "data": {
      "text/plain": [
       "6"
      ]
     },
     "execution_count": 48,
     "metadata": {},
     "output_type": "execute_result"
    }
   ],
   "source": [
    "GF_mult_irr(x=12,y=9,irr=q_irr_int,n=4)"
   ]
  },
  {
   "cell_type": "code",
   "execution_count": 49,
   "metadata": {},
   "outputs": [
    {
     "data": {
      "text/plain": [
       "[9, 1, 1]"
      ]
     },
     "execution_count": 49,
     "metadata": {},
     "output_type": "execute_result"
    }
   ],
   "source": [
    "p_irr_list"
   ]
  },
  {
   "cell_type": "code",
   "execution_count": 50,
   "metadata": {
    "scrolled": true
   },
   "outputs": [],
   "source": [
    "def CF_Evaluation(Poly,sub_val_lst,p_irr_list,q_irr_int):\n",
    "    result = [0,0]\n",
    "    for exp,val in enumerate(Poly):\n",
    "        if val == 1:# Do the Exponentiation\n",
    "            tmp = [1,0]\n",
    "            for itr in range(exp):\n",
    "                tmp = CF_mult(poly1_l_m=tmp,poly2_l_m=sub_val_lst,p_irr_list=[w14,1,1],q_irr_int=q_irr_int)\n",
    "            result = Poly_Add_GF_lst(poly1_l_m=tmp,poly2_l_m=result)\n",
    "    return result"
   ]
  },
  {
   "cell_type": "code",
   "execution_count": 51,
   "metadata": {},
   "outputs": [
    {
     "name": "stdout",
     "output_type": "stream",
     "text": [
      "Found !!\n",
      "[0, 0] i,j =  [0, 1]\n",
      "Found !!\n",
      "[0, 0] i,j =  [1, 1]\n"
     ]
    }
   ],
   "source": [
    "for i in range(16):\n",
    "    for j in range(16): \n",
    "        alpha = [i,j]\n",
    "        alpha_square = CF_mult(poly1_l_m=alpha,poly2_l_m=alpha,p_irr_list=[w14,1,1],q_irr_int=q_irr_int)\n",
    "        alpha2_alpha = Poly_Add_GF_lst(poly1_l_m=alpha_square,poly2_l_m=alpha)\n",
    "        P_result     = Poly_Add_GF_lst(poly1_l_m=alpha2_alpha,poly2_l_m=[w14,0])\n",
    "        if P_result == [0,0]:\n",
    "            print(\"Found !!\")\n",
    "            print(P_result, \"i,j = \",alpha)\n",
    "        "
   ]
  },
  {
   "cell_type": "code",
   "execution_count": 52,
   "metadata": {},
   "outputs": [],
   "source": [
    "root_of_P = [0,1]\n",
    "#root_of_P = [1,1]"
   ]
  },
  {
   "cell_type": "code",
   "execution_count": 53,
   "metadata": {},
   "outputs": [
    {
     "data": {
      "text/plain": [
       "[15, 9]"
      ]
     },
     "execution_count": 53,
     "metadata": {},
     "output_type": "execute_result"
    }
   ],
   "source": [
    "CF_Evaluation(Poly=[1,0,1,1,1,0,0,0,1],sub_val_lst=root_of_P,p_irr_list=p_irr_list,q_irr_int=q_irr_int)"
   ]
  },
  {
   "cell_type": "code",
   "execution_count": 54,
   "metadata": {},
   "outputs": [],
   "source": [
    "w14_alpha = CF_mult(poly1_l_m=root_of_P,poly2_l_m=[w14,0],p_irr_list=p_irr_list,q_irr_int=q_irr_int)"
   ]
  },
  {
   "cell_type": "code",
   "execution_count": 55,
   "metadata": {},
   "outputs": [],
   "source": [
    "w12 = GF_irr_exp(alpha=2,exp=12,irr_int=q_irr_int,n=4)"
   ]
  },
  {
   "cell_type": "code",
   "execution_count": 56,
   "metadata": {},
   "outputs": [],
   "source": [
    "w14 = GF_irr_exp(alpha=2,exp=14,irr_int=q_irr_int,n=4)"
   ]
  },
  {
   "cell_type": "code",
   "execution_count": 57,
   "metadata": {},
   "outputs": [
    {
     "data": {
      "text/plain": [
       "15"
      ]
     },
     "execution_count": 57,
     "metadata": {},
     "output_type": "execute_result"
    }
   ],
   "source": [
    "w12"
   ]
  },
  {
   "cell_type": "code",
   "execution_count": 58,
   "metadata": {},
   "outputs": [
    {
     "data": {
      "text/plain": [
       "[0, 9]"
      ]
     },
     "execution_count": 58,
     "metadata": {},
     "output_type": "execute_result"
    }
   ],
   "source": [
    "w14_alpha"
   ]
  },
  {
   "cell_type": "code",
   "execution_count": 177,
   "metadata": {},
   "outputs": [
    {
     "data": {
      "text/plain": [
       "[15, 9]"
      ]
     },
     "execution_count": 177,
     "metadata": {},
     "output_type": "execute_result"
    }
   ],
   "source": [
    "CF_mod_p_irr_lst(poly_lst_l_m=[1,0,1,1,1,0,0,0,1],p_irr_list=p_irr_list,q_irr_int=q_irr_int)"
   ]
  },
  {
   "cell_type": "markdown",
   "metadata": {},
   "source": [
    "# Alphat Exponent:"
   ]
  },
  {
   "cell_type": "code",
   "execution_count": 60,
   "metadata": {},
   "outputs": [
    {
     "name": "stdout",
     "output_type": "stream",
     "text": [
      "alpha ^  0  =  [0, 1]\n",
      "alpha ^  1  =  [9, 1]\n",
      "alpha ^  2  =  [9, 8]\n",
      "alpha ^  3  =  [4, 1]\n",
      "alpha ^  4  =  [9, 5]\n",
      "alpha ^  5  =  [11, 12]\n",
      "alpha ^  6  =  [6, 7]\n",
      "alpha ^  7  =  [10, 1]\n",
      "alpha ^  8  =  [9, 11]\n",
      "alpha ^  9  =  [12, 2]\n",
      "alpha ^  10  =  [1, 14]\n",
      "alpha ^  11  =  [7, 15]\n",
      "alpha ^  12  =  [14, 8]\n",
      "alpha ^  13  =  [4, 6]\n",
      "alpha ^  14  =  [3, 2]\n",
      "alpha ^  15  =  [1, 1]\n",
      "alpha ^  16  =  [9]\n",
      "alpha ^  17  =  [0, 9]\n",
      "alpha ^  18  =  [13, 9]\n",
      "alpha ^  19  =  [13, 4]\n",
      "alpha ^  20  =  [2, 9]\n",
      "alpha ^  21  =  [13, 11]\n",
      "alpha ^  22  =  [12, 6]\n",
      "alpha ^  23  =  [3, 10]\n",
      "alpha ^  24  =  [5, 9]\n",
      "alpha ^  25  =  [13, 12]\n",
      "alpha ^  26  =  [6, 1]\n",
      "alpha ^  27  =  [9, 7]\n",
      "alpha ^  28  =  [10, 14]\n",
      "alpha ^  29  =  [7, 4]\n",
      "alpha ^  30  =  [2, 3]\n",
      "alpha ^  31  =  [8, 1]\n",
      "alpha ^  32  =  [9, 9]\n",
      "alpha ^  33  =  [13]\n",
      "alpha ^  34  =  [0, 13]\n",
      "alpha ^  35  =  [15, 13]\n",
      "alpha ^  36  =  [15, 2]\n",
      "alpha ^  37  =  [1, 13]\n",
      "alpha ^  38  =  [15, 12]\n",
      "alpha ^  39  =  [6, 3]\n",
      "alpha ^  40  =  [8, 5]\n",
      "alpha ^  41  =  [11, 13]\n",
      "alpha ^  42  =  [15, 6]\n",
      "alpha ^  43  =  [3, 9]\n",
      "alpha ^  44  =  [13, 10]\n",
      "alpha ^  45  =  [5, 7]\n",
      "alpha ^  46  =  [10, 2]\n",
      "alpha ^  47  =  [1, 8]\n",
      "alpha ^  48  =  [4, 9]\n",
      "alpha ^  49  =  [13, 13]\n",
      "alpha ^  50  =  [15]\n",
      "alpha ^  51  =  [0, 15]\n",
      "alpha ^  52  =  [14, 15]\n",
      "alpha ^  53  =  [14, 1]\n",
      "alpha ^  54  =  [9, 15]\n",
      "alpha ^  55  =  [14, 6]\n",
      "alpha ^  56  =  [3, 8]\n",
      "alpha ^  57  =  [4, 11]\n",
      "alpha ^  58  =  [12, 15]\n",
      "alpha ^  59  =  [14, 3]\n",
      "alpha ^  60  =  [8, 13]\n",
      "alpha ^  61  =  [15, 5]\n",
      "alpha ^  62  =  [11, 10]\n",
      "alpha ^  63  =  [5, 1]\n",
      "alpha ^  64  =  [9, 4]\n",
      "alpha ^  65  =  [2, 13]\n",
      "alpha ^  66  =  [15, 15]\n",
      "alpha ^  67  =  [14]\n",
      "alpha ^  68  =  [0, 14]\n",
      "alpha ^  69  =  [7, 14]\n",
      "alpha ^  70  =  [7, 9]\n",
      "alpha ^  71  =  [13, 14]\n",
      "alpha ^  72  =  [7, 3]\n",
      "alpha ^  73  =  [8, 4]\n",
      "alpha ^  74  =  [2, 12]\n",
      "alpha ^  75  =  [6, 14]\n",
      "alpha ^  76  =  [7, 8]\n",
      "alpha ^  77  =  [4, 15]\n",
      "alpha ^  78  =  [14, 11]\n",
      "alpha ^  79  =  [12, 5]\n",
      "alpha ^  80  =  [11, 9]\n",
      "alpha ^  81  =  [13, 2]\n",
      "alpha ^  82  =  [1, 15]\n",
      "alpha ^  83  =  [14, 14]\n",
      "alpha ^  84  =  [7]\n",
      "alpha ^  85  =  [0, 7]\n",
      "alpha ^  86  =  [10, 7]\n",
      "alpha ^  87  =  [10, 13]\n",
      "alpha ^  88  =  [15, 7]\n",
      "alpha ^  89  =  [10, 8]\n",
      "alpha ^  90  =  [4, 2]\n",
      "alpha ^  91  =  [1, 6]\n",
      "alpha ^  92  =  [3, 7]\n",
      "alpha ^  93  =  [10, 4]\n",
      "alpha ^  94  =  [2, 14]\n",
      "alpha ^  95  =  [7, 12]\n",
      "alpha ^  96  =  [6, 11]\n",
      "alpha ^  97  =  [12, 13]\n",
      "alpha ^  98  =  [15, 1]\n",
      "alpha ^  99  =  [9, 14]\n",
      "alpha ^  100  =  [7, 7]\n",
      "alpha ^  101  =  [10]\n",
      "alpha ^  102  =  [0, 10]\n",
      "alpha ^  103  =  [5, 10]\n",
      "alpha ^  104  =  [5, 15]\n",
      "alpha ^  105  =  [14, 10]\n",
      "alpha ^  106  =  [5, 4]\n",
      "alpha ^  107  =  [2, 1]\n",
      "alpha ^  108  =  [9, 3]\n",
      "alpha ^  109  =  [8, 10]\n",
      "alpha ^  110  =  [5, 2]\n",
      "alpha ^  111  =  [1, 7]\n",
      "alpha ^  112  =  [10, 6]\n",
      "alpha ^  113  =  [3, 12]\n",
      "alpha ^  114  =  [6, 15]\n",
      "alpha ^  115  =  [14, 9]\n",
      "alpha ^  116  =  [13, 7]\n",
      "alpha ^  117  =  [10, 10]\n",
      "alpha ^  118  =  [5]\n",
      "alpha ^  119  =  [0, 5]\n",
      "alpha ^  120  =  [11, 5]\n",
      "alpha ^  121  =  [11, 14]\n",
      "alpha ^  122  =  [7, 5]\n",
      "alpha ^  123  =  [11, 2]\n",
      "alpha ^  124  =  [1, 9]\n",
      "alpha ^  125  =  [13, 8]\n",
      "alpha ^  126  =  [4, 5]\n",
      "alpha ^  127  =  [11, 1]\n",
      "alpha ^  128  =  [9, 10]\n",
      "alpha ^  129  =  [5, 3]\n",
      "alpha ^  130  =  [8, 6]\n",
      "alpha ^  131  =  [3, 14]\n",
      "alpha ^  132  =  [7, 13]\n",
      "alpha ^  133  =  [15, 10]\n",
      "alpha ^  134  =  [5, 5]\n",
      "alpha ^  135  =  [11]\n",
      "alpha ^  136  =  [0, 11]\n",
      "alpha ^  137  =  [12, 11]\n",
      "alpha ^  138  =  [12, 7]\n",
      "alpha ^  139  =  [10, 11]\n",
      "alpha ^  140  =  [12, 1]\n",
      "alpha ^  141  =  [9, 13]\n",
      "alpha ^  142  =  [15, 4]\n",
      "alpha ^  143  =  [2, 11]\n",
      "alpha ^  144  =  [12, 9]\n",
      "alpha ^  145  =  [13, 5]\n",
      "alpha ^  146  =  [11, 8]\n",
      "alpha ^  147  =  [4, 3]\n",
      "alpha ^  148  =  [8, 7]\n",
      "alpha ^  149  =  [10, 15]\n",
      "alpha ^  150  =  [14, 5]\n",
      "alpha ^  151  =  [11, 11]\n",
      "alpha ^  152  =  [12]\n",
      "alpha ^  153  =  [0, 12]\n",
      "alpha ^  154  =  [6, 12]\n",
      "alpha ^  155  =  [6, 10]\n",
      "alpha ^  156  =  [5, 12]\n",
      "alpha ^  157  =  [6, 9]\n",
      "alpha ^  158  =  [13, 15]\n",
      "alpha ^  159  =  [14, 2]\n",
      "alpha ^  160  =  [1, 12]\n",
      "alpha ^  161  =  [6, 13]\n",
      "alpha ^  162  =  [15, 11]\n",
      "alpha ^  163  =  [12, 4]\n",
      "alpha ^  164  =  [2, 8]\n",
      "alpha ^  165  =  [4, 10]\n",
      "alpha ^  166  =  [5, 14]\n",
      "alpha ^  167  =  [7, 11]\n",
      "alpha ^  168  =  [12, 12]\n",
      "alpha ^  169  =  [6]\n",
      "alpha ^  170  =  [0, 6]\n",
      "alpha ^  171  =  [3, 6]\n",
      "alpha ^  172  =  [3, 5]\n",
      "alpha ^  173  =  [11, 6]\n",
      "alpha ^  174  =  [3, 13]\n",
      "alpha ^  175  =  [15, 14]\n",
      "alpha ^  176  =  [7, 1]\n",
      "alpha ^  177  =  [9, 6]\n",
      "alpha ^  178  =  [3, 15]\n",
      "alpha ^  179  =  [14, 12]\n",
      "alpha ^  180  =  [6, 2]\n",
      "alpha ^  181  =  [1, 4]\n",
      "alpha ^  182  =  [2, 5]\n",
      "alpha ^  183  =  [11, 7]\n",
      "alpha ^  184  =  [10, 12]\n",
      "alpha ^  185  =  [6, 6]\n",
      "alpha ^  186  =  [3]\n",
      "alpha ^  187  =  [0, 3]\n",
      "alpha ^  188  =  [8, 3]\n",
      "alpha ^  189  =  [8, 11]\n",
      "alpha ^  190  =  [12, 3]\n",
      "alpha ^  191  =  [8, 15]\n",
      "alpha ^  192  =  [14, 7]\n",
      "alpha ^  193  =  [10, 9]\n",
      "alpha ^  194  =  [13, 3]\n",
      "alpha ^  195  =  [8, 14]\n",
      "alpha ^  196  =  [7, 6]\n",
      "alpha ^  197  =  [3, 1]\n",
      "alpha ^  198  =  [9, 2]\n",
      "alpha ^  199  =  [1, 11]\n",
      "alpha ^  200  =  [12, 10]\n",
      "alpha ^  201  =  [5, 6]\n",
      "alpha ^  202  =  [3, 3]\n",
      "alpha ^  203  =  [8]\n",
      "alpha ^  204  =  [0, 8]\n",
      "alpha ^  205  =  [4, 8]\n",
      "alpha ^  206  =  [4, 12]\n",
      "alpha ^  207  =  [6, 8]\n",
      "alpha ^  208  =  [4, 14]\n",
      "alpha ^  209  =  [7, 10]\n",
      "alpha ^  210  =  [5, 13]\n",
      "alpha ^  211  =  [15, 8]\n",
      "alpha ^  212  =  [4, 7]\n",
      "alpha ^  213  =  [10, 3]\n",
      "alpha ^  214  =  [8, 9]\n",
      "alpha ^  215  =  [13, 1]\n",
      "alpha ^  216  =  [9, 12]\n",
      "alpha ^  217  =  [6, 5]\n",
      "alpha ^  218  =  [11, 3]\n",
      "alpha ^  219  =  [8, 8]\n",
      "alpha ^  220  =  [4]\n",
      "alpha ^  221  =  [0, 4]\n",
      "alpha ^  222  =  [2, 4]\n",
      "alpha ^  223  =  [2, 6]\n",
      "alpha ^  224  =  [3, 4]\n",
      "alpha ^  225  =  [2, 7]\n",
      "alpha ^  226  =  [10, 5]\n",
      "alpha ^  227  =  [11, 15]\n",
      "alpha ^  228  =  [14, 4]\n",
      "alpha ^  229  =  [2, 10]\n",
      "alpha ^  230  =  [5, 8]\n",
      "alpha ^  231  =  [4, 13]\n",
      "alpha ^  232  =  [15, 9]\n",
      "alpha ^  233  =  [13, 6]\n",
      "alpha ^  234  =  [3, 11]\n",
      "alpha ^  235  =  [12, 8]\n",
      "alpha ^  236  =  [4, 4]\n",
      "alpha ^  237  =  [2]\n",
      "alpha ^  238  =  [0, 2]\n",
      "alpha ^  239  =  [1, 2]\n",
      "alpha ^  240  =  [1, 3]\n",
      "alpha ^  241  =  [8, 2]\n",
      "alpha ^  242  =  [1, 10]\n",
      "alpha ^  243  =  [5, 11]\n",
      "alpha ^  244  =  [12, 14]\n",
      "alpha ^  245  =  [7, 2]\n",
      "alpha ^  246  =  [1, 5]\n",
      "alpha ^  247  =  [11, 4]\n",
      "alpha ^  248  =  [2, 15]\n",
      "alpha ^  249  =  [14, 13]\n",
      "alpha ^  250  =  [15, 3]\n",
      "alpha ^  251  =  [8, 12]\n",
      "alpha ^  252  =  [6, 4]\n",
      "alpha ^  253  =  [2, 2]\n",
      "alpha ^  254  =  [1]\n",
      "alpha ^  255  =  [0, 1]\n"
     ]
    }
   ],
   "source": [
    "alpha = root_of_P\n",
    "alpha_exp = [1,0]\n",
    "for i in range(2**8):\n",
    "    alpha_exp =  CF_mult(poly1_l_m=alpha_exp,poly2_l_m=alpha,p_irr_list=p_irr_list,q_irr_int=q_irr_int)\n",
    "    print(\"alpha ^ \",i,' = ',alpha_exp)"
   ]
  },
  {
   "cell_type": "code",
   "execution_count": 61,
   "metadata": {},
   "outputs": [],
   "source": [
    "alpha_37 = [1, 13]"
   ]
  },
  {
   "cell_type": "code",
   "execution_count": 62,
   "metadata": {},
   "outputs": [
    {
     "data": {
      "text/plain": [
       "[11, 0]"
      ]
     },
     "execution_count": 62,
     "metadata": {},
     "output_type": "execute_result"
    }
   ],
   "source": [
    "CF_Evaluation(Poly=[1,0,1,1,1,0,0,0,1],sub_val_lst=alpha_37,p_irr_list=p_irr_list,q_irr_int=q_irr_int)"
   ]
  },
  {
   "cell_type": "code",
   "execution_count": 126,
   "metadata": {},
   "outputs": [
    {
     "name": "stdout",
     "output_type": "stream",
     "text": [
      "Found the root of alpha !!! R(alpha^ 37 ) = 0   value =  [15, 2]\n",
      "Found the root of alpha !!! R(alpha^ 41 ) = 0   value =  [8, 5]\n",
      "Found the root of alpha !!! R(alpha^ 73 ) = 0   value =  [7, 3]\n",
      "Found the root of alpha !!! R(alpha^ 74 ) = 0   value =  [8, 4]\n",
      "Found the root of alpha !!! R(alpha^ 82 ) = 0   value =  [13, 2]\n",
      "Found the root of alpha !!! R(alpha^ 146 ) = 0   value =  [13, 5]\n",
      "Found the root of alpha !!! R(alpha^ 148 ) = 0   value =  [4, 3]\n",
      "Found the root of alpha !!! R(alpha^ 164 ) = 0   value =  [12, 4]\n"
     ]
    }
   ],
   "source": [
    "alpha = [0,1]\n",
    "alpha_exp = [1,0]\n",
    "for i in range(1,2**8):\n",
    "    alpha_exp =  CF_mult(poly1_l_m=alpha_exp,poly2_l_m=alpha,p_irr_list=p_irr_list,q_irr_int=q_irr_int)\n",
    "    if [0,0] == CF_Evaluation(Poly=[1,0,1,1,1,0,0,0,1],sub_val_lst=alpha_exp,p_irr_list=p_irr_list,q_irr_int=q_irr_int):\n",
    "        print(\"Found the root of alpha !!!\", \"R(alpha^\",i,\") = 0   value = \", alpha_exp  )\n",
    "    "
   ]
  },
  {
   "cell_type": "code",
   "execution_count": 99,
   "metadata": {},
   "outputs": [
    {
     "name": "stdout",
     "output_type": "stream",
     "text": [
      "alpha^(37* 1 )= 0010 1111\n",
      "alpha^(37* 2 )= 0100 1000\n",
      "alpha^(37* 3 )= 0010 0101\n",
      "alpha^(37* 4 )= 0011 0100\n",
      "alpha^(37* 5 )= 1100 1010\n",
      "alpha^(37* 6 )= 0100 0000\n",
      "alpha^(37* 7 )= 0001 0100\n"
     ]
    }
   ],
   "source": [
    "alpha_37 = [15,2]\n",
    "alpha_next = [1,0]\n",
    "for j in range(1,8):\n",
    "    alpha_next = CF_mult(poly1_l_m=alpha_next,poly2_l_m=alpha_37,p_irr_list=p_irr_list,q_irr_int=q_irr_int)\n",
    "    print(\"alpha^(37*\",j,\")=\",\"{0:04b}\".format(alpha_next[1]),\"{0:04b}\".format(alpha_next[0]))\n",
    "    "
   ]
  },
  {
   "cell_type": "code",
   "execution_count": 83,
   "metadata": {},
   "outputs": [
    {
     "data": {
      "text/plain": [
       "15"
      ]
     },
     "execution_count": 83,
     "metadata": {},
     "output_type": "execute_result"
    }
   ],
   "source": [
    "w12"
   ]
  },
  {
   "cell_type": "code",
   "execution_count": 84,
   "metadata": {},
   "outputs": [],
   "source": [
    "w = 2"
   ]
  },
  {
   "cell_type": "code",
   "execution_count": 88,
   "metadata": {},
   "outputs": [
    {
     "data": {
      "text/plain": [
       "'0010'"
      ]
     },
     "execution_count": 88,
     "metadata": {},
     "output_type": "execute_result"
    }
   ],
   "source": [
    "\"{0:04b}\".format(w)"
   ]
  },
  {
   "cell_type": "code",
   "execution_count": 103,
   "metadata": {},
   "outputs": [],
   "source": [
    "T=np.asarray([\n",
    "  [0,0,0,0,0,0,0,1],\n",
    "  [0,0,1,0,1,1,1,1],\n",
    "  [0,1,0,0,1,0,0,0],\n",
    "  [0,0,1,0,0,1,0,1],\n",
    "  [0,0,1,1,0,1,0,0],\n",
    "  [1,1,0,0,1,0,1,0],\n",
    "  [0,1,0,0,0,0,0,0],\n",
    "  [0,0,0,1,0,1,0,0]])"
   ]
  },
  {
   "cell_type": "code",
   "execution_count": 109,
   "metadata": {},
   "outputs": [],
   "source": [
    "T = T[::-1].transpose()"
   ]
  },
  {
   "cell_type": "code",
   "execution_count": 113,
   "metadata": {},
   "outputs": [],
   "source": [
    "T_inv = np.linalg.inv(T)%2"
   ]
  },
  {
   "cell_type": "code",
   "execution_count": 114,
   "metadata": {},
   "outputs": [
    {
     "data": {
      "text/plain": [
       "array([[0., 0., 1., 0., 0., 1., 0., 0.],\n",
       "       [1., 1., 0., 0., 1., 0., 1., 0.],\n",
       "       [1., 0., 0., 0., 0., 0., 0., 0.],\n",
       "       [0., 0., 1., 1., 0., 1., 0., 0.],\n",
       "       [1., 0., 0., 1., 0., 1., 1., 0.],\n",
       "       [0., 0., 0., 0., 1., 0., 1., 0.],\n",
       "       [1., 0., 0., 0., 0., 0., 1., 0.],\n",
       "       [0., 0., 0., 1., 0., 1., 0., 1.]])"
      ]
     },
     "execution_count": 114,
     "metadata": {},
     "output_type": "execute_result"
    }
   ],
   "source": [
    "T_inv"
   ]
  },
  {
   "cell_type": "code",
   "execution_count": 115,
   "metadata": {},
   "outputs": [
    {
     "data": {
      "text/plain": [
       "array([[0, 0, 1, 0, 0, 0, 0, 0],\n",
       "       [0, 1, 1, 0, 0, 1, 0, 0],\n",
       "       [0, 0, 0, 1, 1, 0, 1, 0],\n",
       "       [1, 0, 0, 1, 0, 0, 0, 0],\n",
       "       [0, 0, 1, 0, 0, 1, 1, 0],\n",
       "       [1, 0, 0, 1, 1, 0, 1, 0],\n",
       "       [0, 0, 1, 0, 0, 0, 1, 0],\n",
       "       [0, 0, 0, 0, 1, 0, 1, 1]])"
      ]
     },
     "execution_count": 115,
     "metadata": {},
     "output_type": "execute_result"
    }
   ],
   "source": [
    "T"
   ]
  },
  {
   "cell_type": "code",
   "execution_count": 117,
   "metadata": {
    "scrolled": true
   },
   "outputs": [
    {
     "data": {
      "text/plain": [
       "array([[1., 0., 0., 0., 0., 0., 0., 0.],\n",
       "       [0., 1., 0., 0., 0., 0., 0., 0.],\n",
       "       [0., 0., 1., 0., 0., 0., 0., 0.],\n",
       "       [0., 0., 0., 1., 0., 0., 0., 0.],\n",
       "       [0., 0., 0., 0., 1., 0., 0., 0.],\n",
       "       [0., 0., 0., 0., 0., 1., 0., 0.],\n",
       "       [0., 0., 0., 0., 0., 0., 1., 0.],\n",
       "       [0., 0., 0., 0., 0., 0., 0., 1.]])"
      ]
     },
     "execution_count": 117,
     "metadata": {},
     "output_type": "execute_result"
    }
   ],
   "source": [
    "T.dot(T_inv)%2"
   ]
  },
  {
   "cell_type": "code",
   "execution_count": 118,
   "metadata": {},
   "outputs": [
    {
     "data": {
      "text/plain": [
       "[0, 1]"
      ]
     },
     "execution_count": 118,
     "metadata": {},
     "output_type": "execute_result"
    }
   ],
   "source": [
    "alpha"
   ]
  },
  {
   "cell_type": "markdown",
   "metadata": {},
   "source": [
    "# AES Polynomial "
   ]
  },
  {
   "cell_type": "code",
   "execution_count": 125,
   "metadata": {
    "scrolled": true
   },
   "outputs": [
    {
     "name": "stdout",
     "output_type": "stream",
     "text": [
      "Found the root of alpha !!! R(alpha^ 5 ) = 0   value =  [9, 5]\n",
      "Found the root of alpha !!! R(alpha^ 10 ) = 0   value =  [12, 2]\n",
      "Found the root of alpha !!! R(alpha^ 20 ) = 0   value =  [13, 4]\n",
      "Found the root of alpha !!! R(alpha^ 40 ) = 0   value =  [6, 3]\n",
      "Found the root of alpha !!! R(alpha^ 65 ) = 0   value =  [9, 4]\n",
      "Found the root of alpha !!! R(alpha^ 80 ) = 0   value =  [12, 5]\n",
      "Found the root of alpha !!! R(alpha^ 130 ) = 0   value =  [5, 3]\n",
      "Found the root of alpha !!! R(alpha^ 160 ) = 0   value =  [14, 2]\n"
     ]
    }
   ],
   "source": [
    "alpha = [0,1]\n",
    "alpha_exp = [1,0]\n",
    "for i in range(1,2**8):\n",
    "    alpha_exp =  CF_mult(poly1_l_m=alpha_exp,poly2_l_m=alpha,p_irr_list=p_irr_list,q_irr_int=q_irr_int)\n",
    "    if [0,0] == CF_Evaluation(Poly=AES_irr_list,sub_val_lst=alpha_exp,p_irr_list=p_irr_list,q_irr_int=q_irr_int):\n",
    "        print(\"Found the root of alpha !!!\", \"R(alpha^\",i,\") = 0   value = \", alpha_exp  )\n",
    "    "
   ]
  },
  {
   "cell_type": "code",
   "execution_count": 127,
   "metadata": {},
   "outputs": [
    {
     "name": "stdout",
     "output_type": "stream",
     "text": [
      "alpha^(5* 1 )= 0010 1111\n",
      "alpha^(5* 2 )= 0100 1000\n",
      "alpha^(5* 3 )= 0010 0101\n",
      "alpha^(5* 4 )= 0011 0100\n",
      "alpha^(5* 5 )= 1100 1010\n",
      "alpha^(5* 6 )= 0100 0000\n",
      "alpha^(5* 7 )= 0001 0100\n"
     ]
    }
   ],
   "source": [
    "alpha_5 = [9,5]\n",
    "alpha_next = [1,0]\n",
    "for j in range(1,8):\n",
    "    alpha_next = CF_mult(poly1_l_m=alpha_next,poly2_l_m=alpha_37,p_irr_list=p_irr_list,q_irr_int=q_irr_int)\n",
    "    print(\"alpha^(5*\",j,\")=\",\"{0:04b}\".format(alpha_next[1]),\"{0:04b}\".format(alpha_next[0]))\n",
    "    "
   ]
  },
  {
   "cell_type": "code",
   "execution_count": 154,
   "metadata": {},
   "outputs": [],
   "source": [
    "AES_Transform = np.asarray([\n",
    "[0,0,0,0,0,0,0,1],\n",
    "[0,0,1,0,1,1,1,1],\n",
    "[0,1,0,0,1,0,0,0],\n",
    "[0,0,1,0,0,1,0,1],\n",
    "[0,0,1,1,0,1,0,0],\n",
    "[1,1,0,0,1,0,1,0],\n",
    "[0,1,0,0,0,0,0,0],\n",
    "[0,0,0,1,0,1,0,0]])"
   ]
  },
  {
   "cell_type": "code",
   "execution_count": 155,
   "metadata": {},
   "outputs": [],
   "source": [
    "AES_Transform = AES_Transform.T[:,::-1]"
   ]
  },
  {
   "cell_type": "code",
   "execution_count": 156,
   "metadata": {},
   "outputs": [],
   "source": [
    "AES_Transform_lsb_msb = AES_Transform[:,::-1]"
   ]
  },
  {
   "cell_type": "code",
   "execution_count": 157,
   "metadata": {},
   "outputs": [
    {
     "data": {
      "text/plain": [
       "array([[0, 0, 0, 0, 0, 1, 0, 0],\n",
       "       [0, 0, 1, 0, 0, 1, 1, 0],\n",
       "       [0, 1, 0, 1, 1, 0, 0, 0],\n",
       "       [0, 0, 0, 0, 1, 0, 0, 1],\n",
       "       [0, 1, 1, 0, 0, 1, 0, 0],\n",
       "       [0, 1, 0, 1, 1, 0, 0, 1],\n",
       "       [0, 1, 0, 0, 0, 1, 0, 0],\n",
       "       [1, 1, 0, 1, 0, 0, 0, 0]])"
      ]
     },
     "execution_count": 157,
     "metadata": {},
     "output_type": "execute_result"
    }
   ],
   "source": [
    "AES_Transform_lsb_msb"
   ]
  },
  {
   "cell_type": "code",
   "execution_count": 158,
   "metadata": {},
   "outputs": [],
   "source": [
    "AES_Transform_lsb_msb_inv = np.linalg.inv(AES_Transform_lsb_msb)%2"
   ]
  },
  {
   "cell_type": "code",
   "execution_count": 144,
   "metadata": {},
   "outputs": [],
   "source": [
    "S_Matrix_lsb_msb = np.asarray( [\n",
    "[1,0,0,0,1,1,1,1],\n",
    "[1,1,0,0,0,1,1,1],\n",
    "[1,1,1,0,0,0,1,1],\n",
    "[1,1,1,1,0,0,0,1],\n",
    "[1,1,1,1,1,0,0,0],\n",
    "[0,1,1,1,1,1,0,0],\n",
    "[0,0,1,1,1,1,1,0],\n",
    "[0,0,0,1,1,1,1,1]])\n",
    "\n",
    "offset_lsb_msb = np.asarray([1,1,0,0,0,1,1,0])"
   ]
  },
  {
   "cell_type": "code",
   "execution_count": 161,
   "metadata": {},
   "outputs": [],
   "source": [
    "S_Matrix_lsb_msb_Transform = AES_Transform_lsb_msb.dot(S_Matrix_lsb_msb)"
   ]
  },
  {
   "cell_type": "code",
   "execution_count": 162,
   "metadata": {},
   "outputs": [],
   "source": [
    "offset_lsb_msb_Transform   = AES_Transform_lsb_msb.dot(offset_lsb_msb)"
   ]
  },
  {
   "cell_type": "code",
   "execution_count": 173,
   "metadata": {
    "scrolled": true
   },
   "outputs": [
    {
     "data": {
      "text/plain": [
       "'0xa0'"
      ]
     },
     "execution_count": 173,
     "metadata": {},
     "output_type": "execute_result"
    }
   ],
   "source": [
    "s,inverse,r = Extendend_Euclidean(modulus_lst_l_m=AES_irr_list,alpha_lst_l_m=[1,1,1,0,0,0,1,0])\n",
    "inverse_lst = [0]*8\n",
    "for idx,val in enumerate(inverse):\n",
    "    inverse_lst[idx] = val\n",
    "inverse_arr = np.asarray(inverse_lst)\n",
    "s_box_result = (S_Matrix_lsb_msb.dot(inverse_arr)+offset_lsb_msb)%2\n",
    "hex(array2int(s_box_result))"
   ]
  },
  {
   "cell_type": "code",
   "execution_count": 228,
   "metadata": {},
   "outputs": [],
   "source": [
    "def CF_divide(dividend_lst,divisor_lst,q_irr_int):\n",
    "    \n",
    "    # Start the division for P\n",
    "    dividend = np.asarray(copy.deepcopy(dividend_lst))[::-1]\n",
    "    divisor  = np.asarray(divisor_lst)[::-1]\n",
    "    div_size = divisor.size\n",
    "    dividend_size = dividend.size\n",
    "    \n",
    "    div_inv_lst= [ int(val) for val in \"{0:04b}\".format(divisor[0])][::-1]\n",
    "    \n",
    "    tmp1,inv_lst,tmp2 = Extendend_Euclidean(modulus_lst_l_m= q_irr_list, alpha_lst_l_m=div_inv_lst)\n",
    "    div_inv = array2int(np.asarray(inv_lst))\n",
    "    divisor_x_div_inv  = [GF_mult_irr(x=val,y=div_inv,irr=q_irr_int,n=4) for val in divisor]\n",
    "    #print(\"divisor_x_div_inv\",divisor_x_div_inv,\"div_inv \",div_inv,\"divisor\",divisor)\n",
    "    quotient = []\n",
    "    \n",
    "    \n",
    "    for idx,val in enumerate(dividend):\n",
    "        #print(\"remainder:\",dividend)\n",
    "        \n",
    "        if (idx + div_size) >  dividend_size:\n",
    "            break\n",
    "            \n",
    "        q = GF_mult_irr(x=val,y=divisor_x_div_inv[0],irr=q_irr_int,n=4)\n",
    "        quotient.append(q)\n",
    "        divisor_x_div_inv_MSB = [GF_mult_irr(x=val,y=dividend[idx],irr=q_irr_int,n=4) for val in divisor_x_div_inv]\n",
    "        #print(\"val:\",val,\"q\",q)\n",
    "        \n",
    "        dividend[idx:idx+div_size] = Poly_Add_GF_lst(poly1_l_m=dividend[idx:idx+div_size],poly2_l_m=divisor_x_div_inv_MSB)\n",
    "        #print(\"quotient:\",q,\"divisor_x_div_inv\",divisor_x_div_inv,\"divisor x div_inv x q  :\",divisor_x_div_inv_MSB)\n",
    "        \n",
    "        \n",
    "    return Poly_decorator(poly=dividend[::-1].tolist()),quotient[::-1]\n",
    "        \n",
    "        "
   ]
  },
  {
   "cell_type": "code",
   "execution_count": 233,
   "metadata": {},
   "outputs": [],
   "source": [
    "def CF_Poly_mult_lst(poly1_l_m,poly2_l_m,q_irr_int):\n",
    "    \n",
    "    poly_1_l_m_arr = np.asarray(poly1_l_m)\n",
    "    poly_2_l_m_arr = np.asarray(poly2_l_m)\n",
    "    poly_1_size = poly_1_l_m_arr.size\n",
    "    poly_2_size = poly_2_l_m_arr.size\n",
    "    \n",
    "    result = np.asarray([0]*(poly_1_size+poly_2_size-1))\n",
    "    \n",
    "    for idx1 in range(poly_1_size):\n",
    "        for idx2 in range(poly_2_size):\n",
    "            cur_idx = idx1 + idx2\n",
    "            result[cur_idx] = result[cur_idx] ^ (GF_mult_irr(x=poly_1_l_m_arr[idx1],y=poly_2_l_m_arr[idx2],irr=q_irr_int,n=4))\n",
    "        #print(result)\n",
    "            \n",
    "    result = np.asarray(Poly_decorator(result))\n",
    "    return result.tolist()"
   ]
  },
  {
   "cell_type": "code",
   "execution_count": 234,
   "metadata": {
    "scrolled": false
   },
   "outputs": [
    {
     "data": {
      "text/plain": [
       "([15, 9], [15, 12, 4, 1, 8, 1, 1])"
      ]
     },
     "execution_count": 234,
     "metadata": {},
     "output_type": "execute_result"
    }
   ],
   "source": [
    "CF_divide(dividend_lst=[1,0,1,1,1,0,0,0,1],divisor_lst=p_irr_list,q_irr_int=q_irr_int)"
   ]
  },
  {
   "cell_type": "code",
   "execution_count": 236,
   "metadata": {
    "scrolled": true
   },
   "outputs": [],
   "source": [
    "cf_poly_mult_result = CF_Poly_mult_lst(poly1_l_m=[15, 12, 4, 1, 8, 1, 1],poly2_l_m=p_irr_list,q_irr_int=q_irr_int)"
   ]
  },
  {
   "cell_type": "code",
   "execution_count": 237,
   "metadata": {
    "scrolled": true
   },
   "outputs": [
    {
     "data": {
      "text/plain": [
       "[1, 0, 1, 1, 1, 0, 0, 0, 1]"
      ]
     },
     "execution_count": 237,
     "metadata": {},
     "output_type": "execute_result"
    }
   ],
   "source": [
    "Poly_Add_GF_lst(poly1_l_m=[15,9],poly2_l_m=cf_poly_mult_result)"
   ]
  },
  {
   "cell_type": "code",
   "execution_count": 269,
   "metadata": {},
   "outputs": [],
   "source": [
    "def CF_Extendend_Euclidean(modulus_lst_l_m,alpha_lst_l_m):# Error Overhere\n",
    "    # as + bt = c\n",
    "    a = modulus_lst_l_m\n",
    "    b = alpha_lst_l_m\n",
    "    r_prev = a\n",
    "    r_cur  = b\n",
    "    s_prev = [1]\n",
    "    s_cur  = [0]\n",
    "    t_prev = [0]\n",
    "    t_cur  = [1]\n",
    "    itr = 0\n",
    "    \n",
    "    while poly_deg(r_cur) > 0 :\n",
    "        \n",
    "        itr = itr +1\n",
    "        \n",
    "        rem, q = CF_divide(dividend_lst=r_prev,divisor_lst=r_cur,q_irr_int=q_irr_int)\n",
    "        \n",
    "        #print(\"r_prev =\",r_prev)\n",
    "        #print(\"q*r_cur + rem =\",Poly_Add_GF_lst(Poly_Mult_lst(r_cur,q),rem))\n",
    "        \n",
    "        r_cur, r_prev = rem, r_cur\n",
    "        \n",
    "        s_cur,s_prev  = Poly_Add_GF_lst( s_prev ,CF_Poly_mult_lst(poly1_l_m=q,poly2_l_m=s_cur,q_irr_int=q_irr_int)) , s_cur\n",
    "        t_cur,t_prev  = Poly_Add_GF_lst( t_prev ,CF_Poly_mult_lst(poly1_l_m=q,poly2_l_m=t_cur,q_irr_int=q_irr_int)) , t_cur\n",
    "        \n",
    "        \n",
    "        tmp = Poly_Add_GF_lst(CF_Poly_mult_lst(s_cur,modulus_lst_l_m,q_irr_int), CF_Poly_mult_lst(test,t_cur,q_irr_int))\n",
    "        print(\"modulus*s + test*t =\",tmp)\n",
    "        print(\"modulus*s + test*t =\",CF_mod_p_irr_lst(poly_lst_l_m=tmp,p_irr_list=p_irr_list,q_irr_int=q_irr_int))\n",
    "        print(\"rem =\", rem)\n",
    "        \n",
    "    # modulus * s_cur +  alpha_lst * t_cur = r_cur\n",
    "    return s_cur , t_cur, r_cur"
   ]
  },
  {
   "cell_type": "code",
   "execution_count": 270,
   "metadata": {},
   "outputs": [
    {
     "name": "stdout",
     "output_type": "stream",
     "text": [
      "modulus*s + test*t = [5, 12, 12, 1]\n",
      "modulus*s + test*t = [10, 8]\n",
      "rem = [10]\n"
     ]
    },
    {
     "data": {
      "text/plain": [
       "([1], [12, 1], [10])"
      ]
     },
     "execution_count": 270,
     "metadata": {},
     "output_type": "execute_result"
    }
   ],
   "source": [
    "CF_Extendend_Euclidean(modulus_lst_l_m=p_irr_list,alpha_lst_l_m=[15,9])"
   ]
  },
  {
   "cell_type": "markdown",
   "metadata": {},
   "source": [
    "# Need Normalization"
   ]
  },
  {
   "cell_type": "code",
   "execution_count": 262,
   "metadata": {},
   "outputs": [
    {
     "data": {
      "text/plain": [
       "12"
      ]
     },
     "execution_count": 262,
     "metadata": {},
     "output_type": "execute_result"
    }
   ],
   "source": [
    "div_inv_lst= [ int(val) for val in \"{0:04b}\".format(10)][::-1]\n",
    "\n",
    "tmp1,inv_lst,tmp2 = Extendend_Euclidean(modulus_lst_l_m= q_irr_list, alpha_lst_l_m=div_inv_lst)\n",
    "div_inv = array2int(np.asarray(inv_lst))\n",
    "div_inv"
   ]
  },
  {
   "cell_type": "code",
   "execution_count": 263,
   "metadata": {},
   "outputs": [
    {
     "data": {
      "text/plain": [
       "1"
      ]
     },
     "execution_count": 263,
     "metadata": {},
     "output_type": "execute_result"
    }
   ],
   "source": [
    "GF_mult_irr(x=10,y=12,irr=q_irr_int,n=4)"
   ]
  },
  {
   "cell_type": "code",
   "execution_count": 264,
   "metadata": {},
   "outputs": [
    {
     "data": {
      "text/plain": [
       "[15, 12]"
      ]
     },
     "execution_count": 264,
     "metadata": {},
     "output_type": "execute_result"
    }
   ],
   "source": [
    "CF_mult(poly1_l_m=[12,1],poly2_l_m=[12],p_irr_list=p_irr_list,q_irr_int=q_irr_int)"
   ]
  },
  {
   "cell_type": "code",
   "execution_count": 265,
   "metadata": {
    "scrolled": true
   },
   "outputs": [
    {
     "data": {
      "text/plain": [
       "[5]"
      ]
     },
     "execution_count": 265,
     "metadata": {},
     "output_type": "execute_result"
    }
   ],
   "source": [
    "CF_mult(poly1_l_m=[15,9],poly2_l_m=[12,1],p_irr_list=p_irr_list,q_irr_int=q_irr_int)"
   ]
  },
  {
   "cell_type": "code",
   "execution_count": null,
   "metadata": {},
   "outputs": [],
   "source": []
  }
 ],
 "metadata": {
  "kernelspec": {
   "display_name": "Python 3",
   "language": "python",
   "name": "python3"
  },
  "language_info": {
   "codemirror_mode": {
    "name": "ipython",
    "version": 3
   },
   "file_extension": ".py",
   "mimetype": "text/x-python",
   "name": "python",
   "nbconvert_exporter": "python",
   "pygments_lexer": "ipython3",
   "version": "3.6.5"
  }
 },
 "nbformat": 4,
 "nbformat_minor": 2
}
