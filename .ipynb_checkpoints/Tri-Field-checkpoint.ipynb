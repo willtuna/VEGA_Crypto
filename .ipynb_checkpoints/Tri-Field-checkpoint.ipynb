{
 "cells": [
  {
   "cell_type": "code",
   "execution_count": 1,
   "metadata": {},
   "outputs": [],
   "source": [
    "import random\n",
    "import numpy as np\n",
    "import math\n",
    "import copy\n",
    "import matplotlib.pyplot as plt\n",
    "import pickle\n",
    "from datetime import datetime\n",
    "random.seed(datetime.now())"
   ]
  },
  {
   "cell_type": "code",
   "execution_count": 8,
   "metadata": {},
   "outputs": [],
   "source": [
    "Char = 3 # p : Characteristic of GF(p^n)"
   ]
  },
  {
   "cell_type": "markdown",
   "metadata": {},
   "source": [
    "# Basic Function Requirement"
   ]
  },
  {
   "cell_type": "code",
   "execution_count": 9,
   "metadata": {},
   "outputs": [],
   "source": [
    "def Poly_Mult_lst(poly1,poly2):\n",
    "    poly1_size = len(poly1)\n",
    "    poly1_deg  = poly1_size-1\n",
    "    poly2_size = len(poly2)\n",
    "    poly2_deg  = poly2_size-1\n",
    "    \n",
    "    result = [0]*(poly1_size+poly2_size-1)\n",
    "    \n",
    "    for idx1 in range(poly1_size):\n",
    "        for idx2 in range(poly2_size):\n",
    "            current_idx = idx1 + idx2\n",
    "            result[current_idx]= (result[current_idx] + (poly1[idx1]*poly2[idx2]))%(Char)\n",
    "    return result   "
   ]
  },
  {
   "cell_type": "markdown",
   "metadata": {},
   "source": [
    "#### Unit Test:\n",
    "Format:    lst_coe -> max_coe\n",
    "[2,1] x [2,1,1,2]   \n",
    "$(2+x) \\times (2+x+x^2+2x^3)$\n",
    "    \n",
    "```\n",
    "0 2 2 1\n",
    "  2 1 1 2\n",
    "---------\n",
    "1 1 0 2 2\n",
    "```"
   ]
  },
  {
   "cell_type": "code",
   "execution_count": 10,
   "metadata": {},
   "outputs": [
    {
     "data": {
      "text/plain": [
       "[1, 1, 0, 2, 2]"
      ]
     },
     "execution_count": 10,
     "metadata": {},
     "output_type": "execute_result"
    }
   ],
   "source": [
    "Poly_Mult_lst([2,1],[2,1,1,2])"
   ]
  },
  {
   "cell_type": "code",
   "execution_count": 26,
   "metadata": {},
   "outputs": [],
   "source": [
    "def GF_mult_irr_list(poly1_lm,poly2_lm,irr_poly_lm):\n",
    "    \n",
    "    poly1_arr = np.asarray(poly1_lm)\n",
    "    poly2_arr = np.asarray(poly2_lm)\n",
    "    irr_ml_arr   = np.asarray(irr_poly_lm)[::-1]\n",
    "    \n",
    "    result    = np.asarray(Poly_Mult_lst(poly1=poly1_arr,poly2=poly2_arr))\n",
    "            \n",
    "    result_ml = result[::-1]# from highest degree to lowest\n",
    "            \n",
    "    for idx,val in enumerate(result_ml):\n",
    "        if idx > (result_ml.size - irr_ml_arr.size):\n",
    "            break\n",
    "        if val == 1:\n",
    "            result_ml[idx:idx+irr_ml_arr.size] = (result_ml[idx:idx+irr_ml_arr.size] + (irr_ml_arr*2) ) %Char\n",
    "        elif val == 2:\n",
    "            result_ml[idx:idx+irr_ml_arr.size] = (result_ml[idx:idx+irr_ml_arr.size] + irr_ml_arr)%Char\n",
    "        else:\n",
    "            None\n",
    "        print(\"--------- val=\",val,\"--------------\")    \n",
    "        print(\"remainder:\",result_ml)\n",
    "        print(\"divisor:\",irr_ml_arr)\n",
    "            \n",
    "    return result_ml[::-1] # lsb_msb"
   ]
  },
  {
   "cell_type": "code",
   "execution_count": 27,
   "metadata": {},
   "outputs": [],
   "source": [
    "# Unit Test"
   ]
  },
  {
   "cell_type": "code",
   "execution_count": 28,
   "metadata": {},
   "outputs": [
    {
     "name": "stdout",
     "output_type": "stream",
     "text": [
      "--------- val= 2 --------------\n",
      "remainder: [0 1 1 0 1]\n",
      "divisor: [1 2 1 2]\n",
      "--------- val= 1 --------------\n",
      "remainder: [0 0 2 2 2]\n",
      "divisor: [1 2 1 2]\n"
     ]
    },
    {
     "data": {
      "text/plain": [
       "array([2, 2, 2, 0, 0])"
      ]
     },
     "execution_count": 28,
     "metadata": {},
     "output_type": "execute_result"
    }
   ],
   "source": [
    "GF_mult_irr_list([2,1],[2,1,1,2],[2,1,2,1])"
   ]
  },
  {
   "cell_type": "markdown",
   "metadata": {},
   "source": [
    "# Primitive Polynomial\n",
    "### 1st Property\n",
    "For any prime or prime power q and any positive integer n, there exists a primitive polynomial of degree n over GF(q). There are\n",
    "\n",
    " $a_q(n)=\\frac{\\phi(q^n-1)}{n} $\n",
    " primitive polynomials over GF(q), where phi(n) is the totient function.\n",
    "### 2nd Property *\n",
    "An irreducible polynomial F(x) of degree m over GF(p), where p is prime, is a primitive polynomial if the smallest positive integer n such that F(x) divides $x^n − 1$ is $n = p^m − 1$.\n",
    "### 3rd Property\n",
    "A primitive polynomial of degree m has m different roots in $GF(p^m)$, which all have order $p^m − 1$. This means that, if α is such a root, then $α^{p^m}−1 = 1$ and $α^i ≠ 1$ for $0 < i < p^m − 1$.\n",
    "### 4th Property\n",
    "The primitive polynomial F(x) of degree m of a primitive element α in $GF(p^m)$ has explicit form $F(x) = (x − α)(x − α^p)(x − α^{p^2})⋅⋅⋅(x − α^{p^m−1})$."
   ]
  },
  {
   "cell_type": "markdown",
   "metadata": {},
   "source": [
    "# Algorithm\n",
    "- Step 1: Polynomial Assumption, deg=m, constant != 0\n",
    "- Step 2: Root Finding based on current Polynomial as Irreducible, number of root <= m\n",
    "- Step 3: Check whether all the root's order is p^m -1 or not, based on currrent irreducible assumption\n",
    "\n",
    "- Final: Check whether it could be in minimal polynomial form."
   ]
  },
  {
   "cell_type": "markdown",
   "metadata": {},
   "source": [
    "```\n",
    "trial = 0 => 1 + 0x\n",
    "trial = 1 => 1 + 1x\n",
    "trial = 2 => 1 + 2x\n",
    "trial = 3 => 1 + 0x + x^2\n",
    "trial = 4 => 1 + 1x + x^2\n",
    "trial = 5 => 1 + 2x + x^2\n",
    "trial = 6 => 1 + 0x + 2x^2\n",
    "trial = 7 => 1 + 1x + 2x^2\n",
    "trial = 8 => 1 + 2x + 2x^2\n",
    "trial = 9 => 1 + 0x + 0x^2 + x^3\n",
    "trial =10 => 1 + 1x + 0x^2 + x^3\n",
    "trial =11 => 1 + 2x + 0x^2 + x^3  (2+0*3+1*3**2)\n",
    "...\n",
    "trial =3**8-1\n",
    "          => 1 + 2x + 2x^2 + 2x^3 + .... 2x^8 (2+2*3+2*3**2+..2*3**7)\n",
    "```"
   ]
  },
  {
   "cell_type": "code",
   "execution_count": null,
   "metadata": {},
   "outputs": [],
   "source": [
    "deg_of_poly = 4\n",
    "for const in [1,2]:\n",
    "    trial = 0\n",
    "    while(trial < 2*3**8):\n",
    "        irr_cand_arr = np.asarray([0]*deg)\n",
    "        irr_cand_arr[0] = const\n",
    "        \n",
    "        \n",
    "    \n",
    "        "
   ]
  }
 ],
 "metadata": {
  "kernelspec": {
   "display_name": "Python 3",
   "language": "python",
   "name": "python3"
  },
  "language_info": {
   "codemirror_mode": {
    "name": "ipython",
    "version": 3
   },
   "file_extension": ".py",
   "mimetype": "text/x-python",
   "name": "python",
   "nbconvert_exporter": "python",
   "pygments_lexer": "ipython3",
   "version": "3.7.1"
  }
 },
 "nbformat": 4,
 "nbformat_minor": 2
}
