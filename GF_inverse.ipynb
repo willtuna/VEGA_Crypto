{
 "cells": [
  {
   "cell_type": "markdown",
   "metadata": {},
   "source": [
    "# Project NO.1 Reed Solomon Code"
   ]
  },
  {
   "cell_type": "code",
   "execution_count": 19,
   "metadata": {},
   "outputs": [],
   "source": [
    "import random\n",
    "import numpy as np\n",
    "import math\n",
    "import copy\n",
    "import matplotlib.pyplot as plt\n",
    "import pickle\n",
    "from datetime import datetime\n",
    "random.seed(datetime.now())"
   ]
  },
  {
   "cell_type": "code",
   "execution_count": 23,
   "metadata": {},
   "outputs": [],
   "source": [
    "def array2int(array):\n",
    "    tmp = 0\n",
    "    for idx in range(array.size):\n",
    "        tmp = tmp + 2**idx*array[idx]\n",
    "    return tmp"
   ]
  },
  {
   "cell_type": "markdown",
   "metadata": {},
   "source": [
    "## Systemic Encoding:\n",
    "### g(x) is quite different :\n",
    "- Build up $GF(2^8)$ Table:\n",
    "    - GF_a_exp()   ............ look up table\n",
    "    - GF_log_a()   ............ inverison\n",
    "\n",
    "- Generate $g(x)=(x+\\alpha)(x+\\alpha^2)(x+\\alpha^3)(x+\\alpha^4)...(x+\\alpha^{2t})$"
   ]
  },
  {
   "cell_type": "markdown",
   "metadata": {},
   "source": [
    "## Build Up $GF(2^8)$ Table"
   ]
  },
  {
   "cell_type": "markdown",
   "metadata": {},
   "source": [
    "### 用 array element 方式去 建構 $GF(2^8)$\n",
    "- Pro: 直觀，可以跟課本對照\n",
    "- Con: 效率低落"
   ]
  },
  {
   "cell_type": "code",
   "execution_count": 1,
   "metadata": {},
   "outputs": [],
   "source": [
    "def GF_a_exp(alpha,exp,GF_px):# Verified\n",
    "    # alpha: generator\n",
    "    # exp  : n of GF(2^n)\n",
    "    # GF_px: primitive polynomial\n",
    "    \n",
    "    GF_2_8 = {}\n",
    "    tmp = copy.deepcopy(alpha)\n",
    "    \n",
    "    GF_2_8[0] = np.asarray([1]+[0]*(alpha.size-1)) # 1st element of any field would be [1,0,0,...]\n",
    "    # iterate from alpha to alpha^{2^exp-1}, since alpha^{2^exp -1} is 1 , the same as [1,0,0,...] \n",
    "    # so we only iterate from alpha to alpha^{2^exp-2}\n",
    "    \n",
    "    for i in range(2**exp-2): \n",
    "        # add into GF_Table\n",
    "        GF_2_8[i+1]=copy.deepcopy(tmp)\n",
    "        # Cirular Shift and check whether need to modulo primitive polynomial\n",
    "        if(tmp[-1] == 1):\n",
    "            # Need Modulo Primitive Polynomial\n",
    "            # Shift\n",
    "            tmp[1:8] = tmp[0:7]\n",
    "            tmp[0] = 0\n",
    "            # Modulo\n",
    "            tmp = (tmp + GF_px[0:8])%2# Bit-wise add in np.array => Same as the xor\n",
    "        else:\n",
    "            # Shift Only\n",
    "            tmp[1:8] = tmp[0:7]\n",
    "            tmp[0] = 0\n",
    "    return GF_2_8"
   ]
  },
  {
   "cell_type": "markdown",
   "metadata": {},
   "source": [
    "## 用 binary 方式去建構 GF(2^8)\n",
    "- Pro : memory efficient, high performance\n",
    "- Con : not intuitive to comprehend"
   ]
  },
  {
   "cell_type": "code",
   "execution_count": 2,
   "metadata": {},
   "outputs": [],
   "source": [
    "# Turn into binary form of primitive polynomial and alpha\n",
    "def GF_table_binary_approach(alpha,irreducible,n):# Verified\n",
    "    table = dict()\n",
    "    # 1st element is identity element\n",
    "    table[0] = 1\n",
    "    tmp = alpha\n",
    "    # iterate from 1 to 2**n-2, since the 2**n-1 element is 1\n",
    "    for i in range(1,2**n-1):\n",
    "        if ( tmp & (2**n) ) :# if current value need modulo\n",
    "            # Modulo => Add to table => Shift\n",
    "            tmp = tmp ^ irreducible\n",
    "            table[i] = tmp\n",
    "            tmp = tmp << 1\n",
    "        else:\n",
    "            table[i] = tmp\n",
    "            tmp = tmp << 1\n",
    "    return table"
   ]
  },
  {
   "cell_type": "markdown",
   "metadata": {},
   "source": [
    "## Build up a Look Up Table \n",
    "- GF_a_exp_Table_int\n",
    "    - input : exponenet\n",
    "    - output: integer representative of polynomial\n",
    "- GF_log_a_Table_int\n",
    "    - input : integer representative of polynomial\n",
    "    - output: exponenet "
   ]
  },
  {
   "cell_type": "code",
   "execution_count": 3,
   "metadata": {},
   "outputs": [],
   "source": [
    "def GF_log_a_table_gen(GF_a_exp_Table_int):\n",
    "    log_Table = {int(value):int(key) for key,value in GF_a_exp_Table_int.items()}\n",
    "    # Since log_Table could not find log(0) , we define log(0) would be none in exponenet form\n",
    "    log_Table[0]=None\n",
    "    return log_Table"
   ]
  },
  {
   "cell_type": "markdown",
   "metadata": {},
   "source": [
    "# Basic Galois Field Operation\n",
    "\n",
    "- GF_mult()\n",
    "- Poly_Mult_GF()\n",
    "- GF_inv()\n",
    "- Poly_divide_GF()\n",
    "    - Poly_deg()  \n",
    "        - return the degree of polynomial\n",
    "    - Poly_decorater() \n",
    "        - return the simplify polynomial\n",
    "- Poly_Add_GF()"
   ]
  },
  {
   "cell_type": "markdown",
   "metadata": {},
   "source": [
    "### GF_mult()\n",
    "\n",
    "### result = $\\alpha^{x\\_exp}\\alpha^{y\\_exp}=\\alpha^{(x\\_exp+y\\_exp)\\%(2^n-1)}$"
   ]
  },
  {
   "cell_type": "code",
   "execution_count": 36,
   "metadata": {},
   "outputs": [],
   "source": [
    "def GF_mult(x,y,n,GF_log_a_Table_int):# Verified\n",
    "    n = int(n)\n",
    "    #  x,y in GF(2^n)\n",
    "    \n",
    "    if x == 0 or y == 0 :# for 0 case\n",
    "        return 0\n",
    "        \n",
    "    modulus = (1<<n)-1\n",
    "    x_exp = GF_log_a_Table_int[x]\n",
    "    y_exp = GF_log_a_Table_int[y]\n",
    "    \n",
    "    result_exp = (x_exp + y_exp)%(modulus) # Because x^(2**n-1) = 1, so (2**n -1) equivalent to 0\n",
    "    return GF_a_exp_Table_int[result_exp]"
   ]
  },
  {
   "cell_type": "markdown",
   "metadata": {},
   "source": [
    "### Poly_Mult_GF()"
   ]
  },
  {
   "cell_type": "code",
   "execution_count": 5,
   "metadata": {},
   "outputs": [],
   "source": [
    "def Poly_Mult_GF(poly1,poly2,n):\n",
    "    poly1_size = len(poly1)\n",
    "    poly1_deg  = poly1_size-1\n",
    "    poly2_size = len(poly2)\n",
    "    poly2_deg  = poly2_size-1\n",
    "    \n",
    "    result = [0]*(poly1_size+poly2_size-1)\n",
    "    \n",
    "    for idx1 in range(poly1_size):\n",
    "        for idx2 in range(poly2_size):\n",
    "            current_idx = idx1 + idx2\n",
    "            result[current_idx]= result[current_idx] ^ GF_mult(poly1[idx1],poly2[idx2],n)\n",
    "    return result    "
   ]
  },
  {
   "cell_type": "markdown",
   "metadata": {},
   "source": [
    "### GF_inv()\n",
    "- Look Up Table Version\n",
    "- Extended Euclidean Version"
   ]
  },
  {
   "cell_type": "code",
   "execution_count": 6,
   "metadata": {},
   "outputs": [],
   "source": [
    "# Extended Euclidean Version\n",
    "#def GF_inv(x,n):# Error Overhere\n",
    "#    #a = 2**n\n",
    "#    #b = x\n",
    "#    #r_prev = a\n",
    "#    #r_cur  = b\n",
    "#    #s_prev = 1\n",
    "#    #s_cur  = 0\n",
    "#    #t_prev = 0\n",
    "#    #t_cur  = 1\n",
    "#    #itr = 0\n",
    "#    #while r_cur != 0:\n",
    "#    #    itr = itr +1\n",
    "#    #    q = r_prev//r_cur\n",
    "#    #    r_cur,r_prev = r_prev - q*r_cur, r_cur\n",
    "#    #    s_cur,s_prev = s_prev - q*s_cur, s_cur\n",
    "#    #    t_cur,t_prev = t_prev - q*t_cur, t_cur\n",
    "#    ## x inverse = t_prev\n",
    "#    ## remainder = r_prev\n",
    "#    #return s_prev, t_prev, r_prev\n",
    "#    exp = GF_log_a_Table_int[x]\n",
    "#    return GF_a_exp_Table_int[(-exp)%(2**n-1)]"
   ]
  },
  {
   "cell_type": "code",
   "execution_count": 7,
   "metadata": {},
   "outputs": [],
   "source": [
    "# Look Up Table Version\n",
    "def GF_inv(x,n):# Error Overhere\n",
    "    if x == 0:\n",
    "        return 0\n",
    "    else:\n",
    "        exp = GF_log_a_Table_int[x]\n",
    "        return GF_a_exp_Table_int[(-exp)%(2**n-1)]"
   ]
  },
  {
   "cell_type": "markdown",
   "metadata": {},
   "source": [
    "### Poly_Divide_GF()"
   ]
  },
  {
   "cell_type": "code",
   "execution_count": 8,
   "metadata": {},
   "outputs": [],
   "source": [
    "def poly_deg(poly):\n",
    "    # return the degree of polynomial\n",
    "    size = len(poly)\n",
    "    if size == 0:\n",
    "        return None\n",
    "    \n",
    "    for idx in range(size-1,-1,-1):\n",
    "        if poly[idx] == 0:\n",
    "            continue\n",
    "        else:\n",
    "            return idx\n",
    "    return 0"
   ]
  },
  {
   "cell_type": "code",
   "execution_count": 9,
   "metadata": {},
   "outputs": [],
   "source": [
    "def Poly_decorator(poly):\n",
    "    # truncate the redundant zero in higher degree\n",
    "    size = len(poly)\n",
    "    for i in range(size-1,-1,-1):\n",
    "        if poly[i] == 0:\n",
    "            continue\n",
    "        else:\n",
    "            return poly[:i+1]\n",
    "    return [0]"
   ]
  },
  {
   "cell_type": "code",
   "execution_count": 10,
   "metadata": {},
   "outputs": [],
   "source": [
    "def Poly_Divide_GF(dividend,divisor,n):\n",
    "    dividend = Poly_decorator(dividend)\n",
    "    divisor  = Poly_decorator(divisor)\n",
    "    dividend_size = len(dividend)\n",
    "    divisor_size  = len(divisor)\n",
    "    # Change into decreasing order {Highest Degree to Lowest Degree} for long division\n",
    "    remainder = np.asarray(dividend[::-1])\n",
    "    divisor   = np.asarray(divisor[::-1])\n",
    "    \n",
    "    # deg(quotient) = (deg(dividend)-deg(divisor))\n",
    "    # So the size of the quiteint would be deg(quotient)+1\n",
    "    # deg(quotient)+1 iteration\n",
    "    quotient = []\n",
    "    for idx in range(dividend_size-divisor_size+1):\n",
    "\n",
    "        if remainder[idx] == 0:\n",
    "            quotient.append(0)\n",
    "            continue\n",
    "        else:\n",
    "            # q = 1/divisor[0] x remainder's highest degree coefficient, GF's inversion and Multiplication\n",
    "            q = GF_mult(GF_inv(divisor[0],n), remainder[idx],n)  \n",
    "            quotient.append(q)\n",
    "            # q * divisor in GF's muliplication\n",
    "            q_divisor = [ GF_mult(q,val,n=n) for val in divisor]\n",
    "            # Since we are in GF(2^n), so substraction is the same as addition\n",
    "            remainder[idx:idx+divisor_size] = Poly_Add_GF(remainder[idx:idx+divisor_size], q_divisor)\n",
    "    \n",
    "    # quotient type: list       \n",
    "    # remainder type : from numpy arrray to list\n",
    "    return quotient[::-1] ,remainder[::-1][:divisor_size-1].tolist()"
   ]
  },
  {
   "cell_type": "markdown",
   "metadata": {},
   "source": [
    "### Poly_Add_GF()"
   ]
  },
  {
   "cell_type": "code",
   "execution_count": 11,
   "metadata": {},
   "outputs": [],
   "source": [
    "def Poly_Add_GF(poly1,poly2):#Verified\n",
    "    if len(poly1) > len(poly2):\n",
    "        large_poly = poly1\n",
    "        small_poly = poly2\n",
    "    else:\n",
    "        large_poly = poly2\n",
    "        small_poly = poly1\n",
    "        \n",
    "    result = large_poly\n",
    "    for idx,val in enumerate(small_poly):\n",
    "        result[idx] = result[idx] ^ small_poly[idx]\n",
    "    return result"
   ]
  },
  {
   "cell_type": "markdown",
   "metadata": {},
   "source": [
    "### Some Debug tool to view the exponenet of all the coefficient"
   ]
  },
  {
   "cell_type": "code",
   "execution_count": 12,
   "metadata": {},
   "outputs": [],
   "source": [
    "def Poly_exp_view(poly):\n",
    "    print( [GF_log_a_Table_int[val] for val in poly] )\n",
    "    return "
   ]
  },
  {
   "cell_type": "markdown",
   "metadata": {},
   "source": [
    "## Generate $g(x)=(x+\\alpha)(x+\\alpha^2)(x+\\alpha^3)(x+\\alpha^4)...(x+\\alpha^{2t})$"
   ]
  },
  {
   "cell_type": "code",
   "execution_count": 13,
   "metadata": {},
   "outputs": [],
   "source": [
    "def RS_Generator(msg_len,capability,start_exp,n):# Verified\n",
    "    # Algorithm: keep multiplying the (a^i+x) where i from 1 to 2t\n",
    "    generator = [1]\n",
    "    for i in range(2*capability):\n",
    "        # since start from alpha^1 to alpha^2t => i+start_exp\n",
    "        generator = Poly_Mult_GF(generator, [GF_a_exp_Table_int[i+start_exp],1] , n)\n",
    "    return generator"
   ]
  },
  {
   "cell_type": "markdown",
   "metadata": {},
   "source": [
    "## Syndrome Polynomial\n",
    "\n",
    "- received codeword: \n",
    "\n",
    "r(x) = $r_0+r_1x+r_2x^2+r_3x^3 + ... r_{n-1}x^{n-1}$\n",
    "\n",
    "- syndrome:\n",
    "\n",
    "$S_j=r(\\alpha^j)=\\sum_{k=0}^{n-1}r_k\\alpha^{jk}$, where j from 1 to 2t, $r_k,\\alpha\\in GF(2^8)$\n",
    "\n",
    "### Syndrome Polynomial \n",
    "- $S(x) = S_1+S_2x+S_3x^2+...S_{2t}x^{2t-1}$"
   ]
  },
  {
   "cell_type": "code",
   "execution_count": 14,
   "metadata": {},
   "outputs": [],
   "source": [
    "def syndrome_polynomial(received,two_t,n):\n",
    "    # Turn the received polynomial's coefficient into exponenet form\n",
    "    exp_form = [GF_log_a_Table_int[val] for val in received]\n",
    "    S = []\n",
    "    # Syndrome polynomial's size = 2t\n",
    "    # index from 1 to 2t\n",
    "    for i in range(1,two_t+1):\n",
    "        tmp = 0\n",
    "        # Computing the Syndrome from recieved polynomial\n",
    "        for idx,val in enumerate(exp_form):\n",
    "            if val == None:\n",
    "                continue\n",
    "            exp_val = ((idx*i) +val)%(2**n-1) # idx + i means alpha ^ (idx*i)\n",
    "            tmp = tmp ^ GF_a_exp_Table_int[exp_val]\n",
    "        S.append(tmp)\n",
    "    \n",
    "    return S"
   ]
  },
  {
   "cell_type": "markdown",
   "metadata": {},
   "source": [
    "## Euclidean Algorithm Decoding Method"
   ]
  },
  {
   "cell_type": "code",
   "execution_count": 15,
   "metadata": {},
   "outputs": [],
   "source": [
    "def Euclidean_Algorithm_Error(x_2t,syndrone_poly,t,n):# Error Overhere\n",
    "    # as + bt = c\n",
    "    a = x_2t\n",
    "    b = syndrone_poly\n",
    "    r_prev = a\n",
    "    r_cur  = b\n",
    "    s_prev = [1]\n",
    "    s_cur  = [0]\n",
    "    t_prev = [0]\n",
    "    t_cur  = [1]\n",
    "    itr = 0\n",
    "    while poly_deg(r_cur) >= t :\n",
    "        \n",
    "        itr = itr +1\n",
    "        q, rem = Poly_Divide_GF(r_prev,r_cur,n)\n",
    "        \n",
    "        r_cur, r_prev = rem, r_cur\n",
    "        s_cur,s_prev  = Poly_Add_GF( s_prev ,Poly_Mult_GF(q,s_cur,n)) , s_cur\n",
    "        t_cur,t_prev  = Poly_Add_GF( t_prev ,Poly_Mult_GF(q,t_cur,n)) , t_cur\n",
    "        \n",
    "    # x_2t * s_cur + syndrome_poly * t_cur = r_cur\n",
    "    # t_cur : Error_Locator_Polynomial\n",
    "    # r_cur : Key_Equation\n",
    "    return s_cur , t_cur, r_cur"
   ]
  },
  {
   "cell_type": "markdown",
   "metadata": {},
   "source": [
    "### The Euclidean Result May be different\n",
    "So we have to normalized the Error Locator to the Normalized Form\n",
    "$1+\\Lambda_1x+\\Lambda_2x^2 + ...$"
   ]
  },
  {
   "cell_type": "code",
   "execution_count": 16,
   "metadata": {},
   "outputs": [],
   "source": [
    "def Euclidean_Result_Normalizer(t_prev,r_prev,n):\n",
    "    normalized_factor = GF_inv(t_prev[0],n)\n",
    "    Key_equation       = Poly_Mult_GF([normalized_factor],r_prev,n)\n",
    "    Error_locator_poly = Poly_Mult_GF([normalized_factor],t_prev,n)\n",
    "    return Key_equation,Error_locator_poly"
   ]
  },
  {
   "cell_type": "markdown",
   "metadata": {},
   "source": [
    "## Chien Search\n",
    "\n",
    "return the error locator reciprocal"
   ]
  },
  {
   "cell_type": "code",
   "execution_count": 17,
   "metadata": {},
   "outputs": [],
   "source": [
    "def Chien_Search(Error_locator_poly,n):\n",
    "    exp_form = [GF_log_a_Table_int[val] for val in Error_locator_poly]\n",
    "    Error_Loc =[]\n",
    "    for i in range(2**n-1):\n",
    "        tmp = 0\n",
    "        for idx,val in enumerate(exp_form):\n",
    "            if val == None:\n",
    "                continue\n",
    "            exp_val = ((idx*i)+val) % (2**n-1)\n",
    "            tmp = tmp ^ GF_a_exp_Table_int[exp_val]\n",
    "        if tmp == 0 :\n",
    "            Error_Loc.append(GF_a_exp_Table_int[i])\n",
    "                \n",
    "    return Error_Loc"
   ]
  },
  {
   "cell_type": "markdown",
   "metadata": {},
   "source": [
    "## Forney's Algorithm Required Function\n",
    "\n",
    "#### Required  Function\n",
    "- Polynomial Evaluation\n",
    "- Differentiation "
   ]
  },
  {
   "cell_type": "markdown",
   "metadata": {},
   "source": [
    "### Polynomial Evaluation"
   ]
  },
  {
   "cell_type": "code",
   "execution_count": 18,
   "metadata": {},
   "outputs": [],
   "source": [
    "def Evaluation(Poly,sub_val,n):\n",
    "    exp_form = [GF_log_a_Table_int[val] for val in Poly]\n",
    "    tmp = 0\n",
    "    exp_sub_val = GF_log_a_Table_int[sub_val]\n",
    "    for idx,val in enumerate(exp_form):\n",
    "        if val == None:\n",
    "            continue\n",
    "        exp_val = (idx*exp_sub_val+val) % (2**n-1)\n",
    "        tmp = tmp ^ GF_a_exp_Table_int[exp_val]\n",
    "    return tmp"
   ]
  },
  {
   "cell_type": "code",
   "execution_count": 30,
   "metadata": {},
   "outputs": [],
   "source": [
    "n=8\n",
    "GF_px = np.asarray([1,0,1,1,1,0,0,0,1])\n",
    "#                   0 1 2 3 4 5 6 7 8\n",
    "alpha = np.asarray([0,1,0,0,0,0,0,0])\n",
    "#                   0 1 2 3 4 5 6 7\n",
    "irreducible_int_form = array2int(GF_px)\n",
    "alpha_int_form = array2int(alpha)\n",
    "\n",
    "GF_a_exp_Table_int = GF_table_binary_approach(alpha_int_form,irreducible_int_form,n)\n",
    "GF_log_a_Table_int = GF_log_a_table_gen(GF_a_exp_Table_int)\n",
    "\n",
    "Poly_GF_2_8 = [1,0,1,1,1,0,0,0,1]\n"
   ]
  },
  {
   "cell_type": "code",
   "execution_count": 31,
   "metadata": {},
   "outputs": [
    {
     "data": {
      "text/plain": [
       "0"
      ]
     },
     "execution_count": 31,
     "metadata": {},
     "output_type": "execute_result"
    }
   ],
   "source": [
    "Evaluation(Poly=Poly_GF_2_8,sub_val=alpha_int_form,n=n)"
   ]
  },
  {
   "cell_type": "code",
   "execution_count": 33,
   "metadata": {},
   "outputs": [],
   "source": [
    "all_root = Chien_Search(Poly_GF_2_8,n)"
   ]
  },
  {
   "cell_type": "code",
   "execution_count": 34,
   "metadata": {},
   "outputs": [
    {
     "name": "stdout",
     "output_type": "stream",
     "text": [
      "[1, 2, 4, 8, 16, 32, 64, 128]\n"
     ]
    }
   ],
   "source": [
    "Poly_exp_view(poly=all_root)"
   ]
  },
  {
   "cell_type": "code",
   "execution_count": null,
   "metadata": {},
   "outputs": [],
   "source": []
  }
 ],
 "metadata": {
  "kernelspec": {
   "display_name": "Python 3",
   "language": "python",
   "name": "python3"
  },
  "language_info": {
   "codemirror_mode": {
    "name": "ipython",
    "version": 3
   },
   "file_extension": ".py",
   "mimetype": "text/x-python",
   "name": "python",
   "nbconvert_exporter": "python",
   "pygments_lexer": "ipython3",
   "version": "3.6.5"
  }
 },
 "nbformat": 4,
 "nbformat_minor": 2
}
