{
 "cells": [
  {
   "cell_type": "code",
   "execution_count": 1,
   "metadata": {},
   "outputs": [],
   "source": [
    "import random\n",
    "import numpy as np\n",
    "import math\n",
    "import copy\n",
    "import matplotlib.pyplot as plt\n",
    "import pickle\n",
    "from datetime import datetime\n",
    "random.seed(datetime.now())"
   ]
  },
  {
   "cell_type": "markdown",
   "metadata": {},
   "source": [
    "# Basic Tool"
   ]
  },
  {
   "cell_type": "code",
   "execution_count": 2,
   "metadata": {},
   "outputs": [],
   "source": [
    "def array2int(array):\n",
    "    tmp = 0\n",
    "    for idx in range(array.size):\n",
    "        tmp = tmp + 2**idx*array[idx]\n",
    "    return tmp"
   ]
  },
  {
   "cell_type": "markdown",
   "metadata": {},
   "source": [
    "# Error Correction Code Method"
   ]
  },
  {
   "cell_type": "markdown",
   "metadata": {},
   "source": [
    "## Build Up $GF(2^8)$ Table"
   ]
  },
  {
   "cell_type": "code",
   "execution_count": 3,
   "metadata": {},
   "outputs": [],
   "source": [
    "def Build_GF_log_Table_with_GF_exp_Table(GF_a_exp_Table_int):\n",
    "    log_Table = {int(value):int(key) for key,value in GF_a_exp_Table_int.items()}\n",
    "    # Since log_Table could not find log(0) , we define log(0) would be none in exponenet form\n",
    "    log_Table[0]=None\n",
    "    return log_Table"
   ]
  },
  {
   "cell_type": "markdown",
   "metadata": {},
   "source": [
    "### GF_mult()\n",
    "\n",
    "### result = $\\alpha^{x\\_exp}\\alpha^{y\\_exp}=\\alpha^{(x\\_exp+y\\_exp)\\%(2^n-1)}$"
   ]
  },
  {
   "cell_type": "code",
   "execution_count": 4,
   "metadata": {},
   "outputs": [],
   "source": [
    "def GF_mult_tb(x,y,n,GF_log_a_Table_int):# Verified\n",
    "    n = int(n)\n",
    "    #  x,y in GF(2^n)\n",
    "    \n",
    "    if x == 0 or y == 0 :# for 0 case\n",
    "        return 0\n",
    "        \n",
    "    modulus = (1<<n)-1\n",
    "    x_exp = GF_log_a_Table_int[x]\n",
    "    y_exp = GF_log_a_Table_int[y]\n",
    "    \n",
    "    result_exp = (x_exp + y_exp)%(modulus) # Because x^(2**n-1) = 1, so (2**n -1) equivalent to 0\n",
    "    return GF_a_exp_Table_int[result_exp]"
   ]
  },
  {
   "cell_type": "code",
   "execution_count": 5,
   "metadata": {},
   "outputs": [],
   "source": [
    "def GF_Table_Generation_with_irr(alpha_int,irr_int):\n",
    "    table = {}\n",
    "    for i in range(255):\n",
    "        table[i]= GF_2_8_exp(alpha=alpha_int,exp=i,irr_int=irr_int)\n",
    "    return table"
   ]
  },
  {
   "cell_type": "markdown",
   "metadata": {},
   "source": [
    "# Cryptography Method"
   ]
  },
  {
   "cell_type": "markdown",
   "metadata": {},
   "source": [
    "# AES Galois Field Polynomial:\n",
    "### $GF(2^8)$=$\\frac{F_2[x]}{irr(x)}$\n",
    "## $$irr(x) = 1+x+x^3+x^4+x^8$$\n",
    "    "
   ]
  },
  {
   "cell_type": "code",
   "execution_count": 6,
   "metadata": {},
   "outputs": [],
   "source": [
    "n=8\n",
    "AES_irr_arr = np.asarray([1,1,0,1,1,0,0,0,1])\n",
    "#                         0 1 2 3 4 5 6 7 8\n",
    "AES_irr_int = array2int(AES_irr_arr)\n",
    "\n",
    "AES_irr_list = [1,1,0,1,1,0,0,0,1]"
   ]
  },
  {
   "cell_type": "markdown",
   "metadata": {},
   "source": [
    "## Do the Exponentiaition in $GF(2^8)$"
   ]
  },
  {
   "cell_type": "code",
   "execution_count": 7,
   "metadata": {},
   "outputs": [],
   "source": [
    "def GF_irr_exp(alpha,exp,irr_int,n):\n",
    "    tmp = 1\n",
    "    for i in range(1,exp+1):\n",
    "        tmp = GF_mult_irr(alpha,tmp,irr_int,n)\n",
    "    return tmp"
   ]
  },
  {
   "cell_type": "markdown",
   "metadata": {},
   "source": [
    "## Do the Multiplication in $GF(2^8)$"
   ]
  },
  {
   "cell_type": "markdown",
   "metadata": {},
   "source": [
    "### Poly_Mult_GF()"
   ]
  },
  {
   "cell_type": "code",
   "execution_count": 8,
   "metadata": {},
   "outputs": [],
   "source": [
    "def Poly_Mult_lst(poly1,poly2):\n",
    "    poly1_size = len(poly1)\n",
    "    poly1_deg  = poly1_size-1\n",
    "    poly2_size = len(poly2)\n",
    "    poly2_deg  = poly2_size-1\n",
    "    \n",
    "    result = [0]*(poly1_size+poly2_size-1)\n",
    "    \n",
    "    for idx1 in range(poly1_size):\n",
    "        for idx2 in range(poly2_size):\n",
    "            current_idx = idx1 + idx2\n",
    "            result[current_idx]= result[current_idx] ^ (poly1[idx1]&poly2[idx2])\n",
    "    return result    "
   ]
  },
  {
   "cell_type": "code",
   "execution_count": 9,
   "metadata": {},
   "outputs": [],
   "source": [
    "def GF_mult_irr_list(poly1_lm,poly2_lm,irr_poly_lm):\n",
    "    \n",
    "    poly1_arr = np.asarray(poly1_lm)\n",
    "    poly2_arr = np.asarray(poly2_lm)\n",
    "    irr_arr   = np.asarray(irr_poly_lm)[::-1]\n",
    "    \n",
    "    poly1_size = len(poly1_lm)\n",
    "    poly1_deg  = poly1_size-1\n",
    "    poly2_size = len(poly2_lm)\n",
    "    poly2_deg  = poly2_size-1\n",
    "    \n",
    "    result = np.asarray([0]*(poly1_size+poly2_size-1))\n",
    "    \n",
    "    for idx1 in range(poly1_size):\n",
    "        for idx2 in range(poly2_size):\n",
    "            current_idx = idx1 + idx2\n",
    "            result[current_idx]= result[current_idx] ^ (poly1_arr[idx1] & poly2_arr[idx2])\n",
    "            \n",
    "    result = result[::-1]# from highest degree to lowest\n",
    "    #print(\"remainder:\",result)\n",
    "            \n",
    "    for idx,val in enumerate(result):\n",
    "        if idx > (result.size - irr_arr.size):\n",
    "            break\n",
    "        if val == 1:\n",
    "            result[idx:idx+irr_arr.size] = result[idx:idx+irr_arr.size] ^ irr_arr\n",
    "            #print(\"remainder:\",result)\n",
    "            #print(\"divisor:\",irr_arr)\n",
    "            \n",
    "    return result[::-1] # lsb_msb"
   ]
  },
  {
   "cell_type": "code",
   "execution_count": 10,
   "metadata": {},
   "outputs": [],
   "source": [
    "def GF_mult_irr(x,y,irr,n):\n",
    "    \n",
    "    poly1    = [int(val) for val in \"{0:08b}\".format(x) ][::-1][:n]\n",
    "    poly2    = [int(val) for val in \"{0:08b}\".format(y) ][::-1][:n]\n",
    "    irr_poly = [int(val) for val in \"{0:08b}\".format(irr) ][::-1][:n+1]\n",
    "#    print(\"poly1\",poly1)\n",
    "#    print(\"poly2\",poly2)\n",
    "#    print(\"irr_poly\",irr_poly)\n",
    "    \n",
    "    poly1xpoly2_lst = GF_mult_irr_list(poly1_lm=poly1,poly2_lm=poly2,irr_poly_lm=irr_poly)\n",
    "            \n",
    "            \n",
    "    return array2int(poly1xpoly2_lst)"
   ]
  },
  {
   "cell_type": "markdown",
   "metadata": {},
   "source": [
    "# Polynomial Divider"
   ]
  },
  {
   "cell_type": "code",
   "execution_count": 11,
   "metadata": {},
   "outputs": [],
   "source": [
    "def GF_divide_irr_int(x,irr,n):\n",
    "    poly1   = [int(val) for val in \"{0:08b}\".format(x) ][8-n:]\n",
    "    irr_poly= [int(val) for val in \"{0:08b}\".format(irr) ][8-n:]\n",
    "    \n",
    "    poly1_arr = np.asarray(poly1)\n",
    "    irr_arr   = np.asarray(irr_poly)\n",
    "    \n",
    "    poly1_size = len(poly1)\n",
    "    poly1_deg  = poly1_size-1\n",
    "    \n",
    "    remainder = copy.deepcopy(poly1_arr)\n",
    "    quotient  = []\n",
    "            \n",
    "    for idx,val in enumerate(remainder):\n",
    "        if (poly1_deg-idx) <= 7:\n",
    "            break\n",
    "        if val == 1:\n",
    "            #print(\"remainder:\",result)\n",
    "            #print(\"divisor  :\",irr_arr)\n",
    "            quotient.append(1)\n",
    "            remainder[idx:idx+9] = remainder[idx:idx+9] ^ irr_arr\n",
    "            \n",
    "    quotient =  np.asarray(quotient)[::-1]\n",
    "            \n",
    "    return array2int(remainder[::-1])"
   ]
  },
  {
   "cell_type": "code",
   "execution_count": 12,
   "metadata": {},
   "outputs": [],
   "source": [
    "def Binary_divide_poly_lst(dividend_l_m,divisor_l_m):\n",
    "    \n",
    "    dividend_arr = np.asarray(Poly_decorator(dividend_l_m))[::-1]# turn to msb -> lsb\n",
    "    divisor_arr  = np.asarray(Poly_decorator(divisor_l_m))[::-1]\n",
    "    \n",
    "    divisor_deg  = divisor_arr.size - 1\n",
    "    divisor_size = divisor_arr.size\n",
    "    \n",
    "    \n",
    "    remainder = copy.deepcopy(dividend_arr)\n",
    "    quotient  = []\n",
    "            \n",
    "    for idx,val in enumerate(remainder):\n",
    "        if (dividend_arr.size - idx) <= divisor_deg:\n",
    "            break\n",
    "        \n",
    "        if val == 1:\n",
    "            quotient.append(1)\n",
    "            remainder[idx:idx+divisor_size] = remainder[idx:idx+divisor_size] ^ divisor_arr\n",
    "        else:\n",
    "            quotient.append(0)\n",
    "            \n",
    "    remainder = Poly_decorator(remainder[::-1])\n",
    "            \n",
    "    return remainder.tolist(),quotient[::-1]"
   ]
  },
  {
   "cell_type": "markdown",
   "metadata": {},
   "source": [
    "# Polynomial Addition in GF"
   ]
  },
  {
   "cell_type": "code",
   "execution_count": 13,
   "metadata": {},
   "outputs": [],
   "source": [
    "def Poly_Add_GF_lst(poly1_l_m,poly2_l_m):#Verified\n",
    "    if len(poly1_l_m) > len(poly2_l_m):\n",
    "        large_poly = poly1_l_m\n",
    "        small_poly = poly2_l_m\n",
    "    else:\n",
    "        large_poly = poly2_l_m\n",
    "        small_poly = poly1_l_m\n",
    "        \n",
    "    result = large_poly\n",
    "    for idx,val in enumerate(small_poly):\n",
    "        result[idx] = result[idx] ^ small_poly[idx]\n",
    "    return result"
   ]
  },
  {
   "cell_type": "code",
   "execution_count": 14,
   "metadata": {},
   "outputs": [],
   "source": [
    "def GF_order(alpha,irr_int,n):    \n",
    "    for i in range(1,2**n):\n",
    "        if GF_irr_exp(alpha=alpha,exp=i,irr_int=irr_int,n=n) == 1:\n",
    "            print(\"Ord(\",alpha,\") = \",i)\n",
    "            return i"
   ]
  },
  {
   "cell_type": "code",
   "execution_count": 15,
   "metadata": {},
   "outputs": [],
   "source": [
    "def poly_deg(poly):\n",
    "    # return the degree of polynomial\n",
    "    size = len(poly)\n",
    "    if size == 0:\n",
    "        return None\n",
    "    \n",
    "    for idx in range(size-1,-1,-1):\n",
    "        if poly[idx] == 0:\n",
    "            continue\n",
    "        else:\n",
    "            return idx\n",
    "    return 0"
   ]
  },
  {
   "cell_type": "code",
   "execution_count": 16,
   "metadata": {},
   "outputs": [],
   "source": [
    "def Poly_decorator(poly):\n",
    "    # truncate the redundant zero in higher degree\n",
    "    size = len(poly)\n",
    "    for i in range(size-1,-1,-1):\n",
    "        if poly[i] == 0:\n",
    "            continue\n",
    "        else:\n",
    "            return poly[:i+1]\n",
    "    return [0]"
   ]
  },
  {
   "cell_type": "code",
   "execution_count": 17,
   "metadata": {
    "scrolled": true
   },
   "outputs": [],
   "source": [
    "def Evaluation(Poly,sub_val,irr,n):\n",
    "    result = 0\n",
    "    for exp,val in enumerate(Poly):\n",
    "        if val == 1:# Do the Exponentiation\n",
    "            tmp = 1\n",
    "            for itr in range(exp):\n",
    "                tmp = GF_mult_irr(tmp,sub_val,irr,n)\n",
    "            result = result ^ tmp\n",
    "    return result"
   ]
  },
  {
   "cell_type": "markdown",
   "metadata": {},
   "source": [
    "### GF_inv()\n",
    "- Extended Euclidean Version"
   ]
  },
  {
   "cell_type": "code",
   "execution_count": 18,
   "metadata": {},
   "outputs": [],
   "source": [
    "def Extendend_Euclidean(modulus_lst_l_m,alpha_lst_l_m):# Error Overhere\n",
    "    # as + bt = c\n",
    "    a = modulus_lst_l_m\n",
    "    b = alpha_lst_l_m\n",
    "    r_prev = a\n",
    "    r_cur  = b\n",
    "    s_prev = [1]\n",
    "    s_cur  = [0]\n",
    "    t_prev = [0]\n",
    "    t_cur  = [1]\n",
    "    itr = 0\n",
    "    \n",
    "    while poly_deg(r_cur) >= 1 :\n",
    "        \n",
    "        itr = itr +1\n",
    "        rem, q = Binary_divide_poly_lst(dividend_l_m=r_prev,divisor_l_m=r_cur)\n",
    "        \n",
    "        #print(\"r_prev =\",r_prev)\n",
    "        #print(\"q*r_cur + rem =\",Poly_Add_GF_lst(Poly_Mult_lst(r_cur,q),rem))\n",
    "        \n",
    "        r_cur, r_prev = rem, r_cur\n",
    "        \n",
    "        s_cur,s_prev  = Poly_Add_GF_lst( s_prev ,Poly_Mult_lst(poly1=q,poly2=s_cur)) , s_cur\n",
    "        t_cur,t_prev  = Poly_Add_GF_lst( t_prev ,Poly_Mult_lst(poly1=q,poly2=t_cur)) , t_cur\n",
    "        \n",
    "        #print(\"modulus*s + test*t =\",Poly_Add_GF_lst(Poly_Mult_lst(s_cur,modulus_lst_l_m),Poly_Mult_lst(test,t_cur)))\n",
    "        #print(\"rem =\", r_cur)\n",
    "        \n",
    "    # modulus * s_cur +  alpha_lst * t_cur = r_cur\n",
    "    return s_cur , t_cur, r_cur"
   ]
  },
  {
   "cell_type": "code",
   "execution_count": 19,
   "metadata": {},
   "outputs": [],
   "source": [
    "test=[1, 1, 1, 0, 0, 0, 0, 0]"
   ]
  },
  {
   "cell_type": "code",
   "execution_count": 20,
   "metadata": {
    "scrolled": false
   },
   "outputs": [],
   "source": [
    "s,t,r = Extendend_Euclidean(modulus_lst_l_m=AES_irr_list,alpha_lst_l_m=test)"
   ]
  },
  {
   "cell_type": "code",
   "execution_count": 21,
   "metadata": {},
   "outputs": [
    {
     "data": {
      "text/plain": [
       "([1], [0, 1])"
      ]
     },
     "execution_count": 21,
     "metadata": {},
     "output_type": "execute_result"
    }
   ],
   "source": [
    "Binary_divide_poly_lst(Poly_Mult_lst(test,t),AES_irr_list)"
   ]
  },
  {
   "cell_type": "code",
   "execution_count": 22,
   "metadata": {},
   "outputs": [],
   "source": [
    "test_inv =t"
   ]
  },
  {
   "cell_type": "markdown",
   "metadata": {},
   "source": [
    "# Find all the roots of AES Irreducible Polynomial:"
   ]
  },
  {
   "cell_type": "markdown",
   "metadata": {},
   "source": [
    "# AES Galois Field Polynomial:\n",
    "### $GF(2^8)$=$\\frac{F_2[x]}{irr(x)}$\n",
    "## $$irr(x) = 1+x+x^3+x^4+x^8$$\n",
    "    "
   ]
  },
  {
   "cell_type": "markdown",
   "metadata": {},
   "source": [
    "# Test AES"
   ]
  },
  {
   "cell_type": "code",
   "execution_count": 23,
   "metadata": {},
   "outputs": [],
   "source": [
    "S_Matrix_lsb_msb = np.asarray( [\n",
    "[1,0,0,0,1,1,1,1],\n",
    "[1,1,0,0,0,1,1,1],\n",
    "[1,1,1,0,0,0,1,1],\n",
    "[1,1,1,1,0,0,0,1],\n",
    "[1,1,1,1,1,0,0,0],\n",
    "[0,1,1,1,1,1,0,0],\n",
    "[0,0,1,1,1,1,1,0],\n",
    "[0,0,0,1,1,1,1,1]])\n",
    "\n",
    "offset_lsb_msb = np.asarray([1,1,0,0,0,1,1,0])"
   ]
  },
  {
   "cell_type": "code",
   "execution_count": 24,
   "metadata": {},
   "outputs": [],
   "source": [
    "s,inverse_7,r = Extendend_Euclidean(modulus_lst_l_m=AES_irr_list,alpha_lst_l_m=[1,1,1,0,0,0,0,0])\n",
    "inverse_7 = np.asarray(inverse_7)"
   ]
  },
  {
   "cell_type": "code",
   "execution_count": 25,
   "metadata": {},
   "outputs": [
    {
     "data": {
      "text/plain": [
       "array([1, 0, 1, 0, 0, 0, 1, 1])"
      ]
     },
     "execution_count": 25,
     "metadata": {},
     "output_type": "execute_result"
    }
   ],
   "source": [
    "(S_Matrix_lsb_msb.dot(inverse_7)+offset_lsb_msb)%2"
   ]
  },
  {
   "cell_type": "code",
   "execution_count": 26,
   "metadata": {},
   "outputs": [],
   "source": [
    "x13x11x9x8x6x5x4x31=[1,0,0,1,1,1,1,0,1,1,0,1,0,1]\n",
    "x6x4x2x1=[1,1,1,0,1,0,1]\n",
    "x7x1=[1,1,0,0,0,0,0,1]"
   ]
  },
  {
   "cell_type": "code",
   "execution_count": 27,
   "metadata": {},
   "outputs": [
    {
     "data": {
      "text/plain": [
       "193"
      ]
     },
     "execution_count": 27,
     "metadata": {},
     "output_type": "execute_result"
    }
   ],
   "source": [
    "GF_divide_irr_int(11129,283,n)"
   ]
  },
  {
   "cell_type": "code",
   "execution_count": 28,
   "metadata": {},
   "outputs": [
    {
     "data": {
      "text/plain": [
       "([1, 0, 0, 0, 0, 0, 1, 1], [0, 0, 0, 1, 0, 1])"
      ]
     },
     "execution_count": 28,
     "metadata": {},
     "output_type": "execute_result"
    }
   ],
   "source": [
    "Binary_divide_poly_lst(x13x11x9x8x6x5x4x31,AES_irr_list)"
   ]
  },
  {
   "cell_type": "code",
   "execution_count": 29,
   "metadata": {},
   "outputs": [
    {
     "data": {
      "text/plain": [
       "[1, 0, 0, 1, 1, 1, 1, 0, 1, 1, 0, 1, 0, 1]"
      ]
     },
     "execution_count": 29,
     "metadata": {},
     "output_type": "execute_result"
    }
   ],
   "source": [
    "Poly_Mult_lst(x6x4x2x1,x7x1)"
   ]
  },
  {
   "cell_type": "markdown",
   "metadata": {},
   "source": [
    "#  AES S-BOX Research"
   ]
  },
  {
   "cell_type": "markdown",
   "metadata": {},
   "source": [
    "### $R(z) = z^8+z^4+z^3+z+1$"
   ]
  },
  {
   "cell_type": "code",
   "execution_count": 30,
   "metadata": {},
   "outputs": [],
   "source": [
    "AES_irr_arr = np.asarray([1,1,0,1,1,0,0,0,1])\n",
    "#                         0 1 2 3 4 5 6 7 8\n",
    "AES_irr_int = array2int(AES_irr_arr)\n",
    "\n",
    "AES_irr_list = [1,1,0,1,1,0,0,0,1]"
   ]
  },
  {
   "cell_type": "code",
   "execution_count": 31,
   "metadata": {
    "scrolled": false
   },
   "outputs": [
    {
     "name": "stdout",
     "output_type": "stream",
     "text": [
      "Root Found : 2\n",
      "Root Found : 4\n",
      "Root Found : 16\n",
      "Root Found : 27\n",
      "Root Found : 77\n",
      "Root Found : 94\n",
      "Root Found : 228\n",
      "Root Found : 250\n"
     ]
    }
   ],
   "source": [
    "for i in range(256):\n",
    "    if Evaluation(Poly=AES_irr_list,sub_val=i,irr=AES_irr_int,n=8) == 0:\n",
    "        print(\"Root Found :\", i)"
   ]
  },
  {
   "cell_type": "code",
   "execution_count": 32,
   "metadata": {},
   "outputs": [
    {
     "name": "stdout",
     "output_type": "stream",
     "text": [
      "Ord( 2 ) =  51\n",
      "ord( 2 ) 51\n",
      "Ord( 4 ) =  51\n",
      "ord( 4 ) 51\n",
      "Ord( 16 ) =  51\n",
      "ord( 16 ) 51\n",
      "Ord( 27 ) =  51\n",
      "ord( 27 ) 51\n",
      "Ord( 77 ) =  51\n",
      "ord( 77 ) 51\n",
      "Ord( 94 ) =  51\n",
      "ord( 94 ) 51\n",
      "Ord( 228 ) =  51\n",
      "ord( 228 ) 51\n",
      "Ord( 250 ) =  51\n",
      "ord( 250 ) 51\n"
     ]
    }
   ],
   "source": [
    "print(\"ord(\",2  ,\")\",GF_order(2  ,AES_irr_int,8))\n",
    "print(\"ord(\",4  ,\")\",GF_order(4  ,AES_irr_int,8))\n",
    "print(\"ord(\",16 ,\")\",GF_order(16 ,AES_irr_int,8))\n",
    "print(\"ord(\",27 ,\")\",GF_order(27 ,AES_irr_int,8))\n",
    "print(\"ord(\",77 ,\")\",GF_order(77 ,AES_irr_int,8))\n",
    "print(\"ord(\",94 ,\")\",GF_order(94 ,AES_irr_int,8))\n",
    "print(\"ord(\",228,\")\",GF_order(228,AES_irr_int,8))\n",
    "print(\"ord(\",250,\")\",GF_order(250,AES_irr_int,8))"
   ]
  },
  {
   "cell_type": "markdown",
   "metadata": {},
   "source": [
    "# $Q(y) = y^4+y+1$"
   ]
  },
  {
   "cell_type": "code",
   "execution_count": 33,
   "metadata": {},
   "outputs": [],
   "source": [
    "q_irr_arr = np.asarray([1,1,0,0,1])\n",
    "#                       0 1 2 3 4 \n",
    "q_irr_int = array2int(q_irr_arr)\n",
    "q_irr_list = [1,1,0,0,1]"
   ]
  },
  {
   "cell_type": "code",
   "execution_count": 34,
   "metadata": {
    "scrolled": true
   },
   "outputs": [
    {
     "name": "stdout",
     "output_type": "stream",
     "text": [
      "Root Found : 2\n",
      "Root Found : 3\n",
      "Root Found : 4\n",
      "Root Found : 5\n"
     ]
    }
   ],
   "source": [
    "for i in range(2**4):\n",
    "    if Evaluation(Poly=q_irr_list,sub_val=i,irr=q_irr_int,n=4) == 0:\n",
    "        print(\"Root Found :\", i)"
   ]
  },
  {
   "cell_type": "markdown",
   "metadata": {},
   "source": [
    "# $P(x) = x^2 + x + w^{14}$"
   ]
  },
  {
   "cell_type": "code",
   "execution_count": 35,
   "metadata": {},
   "outputs": [],
   "source": [
    "w14 = GF_irr_exp(alpha=2,exp=14,irr_int=q_irr_int,n=4)"
   ]
  },
  {
   "cell_type": "code",
   "execution_count": 38,
   "metadata": {},
   "outputs": [],
   "source": [
    "p_irr_arr  = np.asarray([w14,1,1])\n",
    "p_irr_list = [w14,1,1]"
   ]
  },
  {
   "cell_type": "code",
   "execution_count": null,
   "metadata": {},
   "outputs": [],
   "source": [
    "def CF_mult(poly1_l_m,poly2_l_m,p_irr_list ,q_irr_int):\n",
    "    \n",
    "    poly_1_l_m_arr = np.asarray(poly1_l_m)\n",
    "    poly_2_l_m_arr = np.asarray(poly2_l_m)\n",
    "    poly_1_size = poly_1_l_m_arr.size\n",
    "    poly_2_size = poly_2_l_m_arr.size\n",
    "    \n",
    "    result = np.asarray([0]*(poly_1_size+poly_2_size-1))\n",
    "    \n",
    "    for idx1 in range(poly_1_size):\n",
    "        for idx2 in range(poly_2_size):\n",
    "            cur_idx = idx1 + idx2\n",
    "            result[cur_idx] = result[cur_idx] ^ (GF_mult_irr(x=poly_1_l_m_arr[idx1],y=poly_2_l_m_arr[idx2],irr=q_irr_int,n=4))\n",
    "            \n",
    "            \n",
    "    result = Poly_decorator(result)\n",
    "    result = result[::-1] # Reversal to MSB  to LSB \n",
    "    \n",
    "    \n",
    "    # Start the division\n",
    "    dividend = copy.deepcopy(result)\n",
    "    divisor  = np.asarray(p_irr_list)[::-1]\n",
    "    \n",
    "    for idx,val in enumerate(dividend):\n",
    "        Extendend_Euclidean(modulus_lst_l_m= q_irr_list, alpha_lst_l_m=)\n",
    "        \n",
    "    \n",
    "    \n",
    "    \n",
    "    \n",
    "    \n",
    "    \n",
    "            "
   ]
  },
  {
   "cell_type": "code",
   "execution_count": null,
   "metadata": {},
   "outputs": [],
   "source": []
  }
 ],
 "metadata": {
  "kernelspec": {
   "display_name": "Python 3",
   "language": "python",
   "name": "python3"
  },
  "language_info": {
   "codemirror_mode": {
    "name": "ipython",
    "version": 3
   },
   "file_extension": ".py",
   "mimetype": "text/x-python",
   "name": "python",
   "nbconvert_exporter": "python",
   "pygments_lexer": "ipython3",
   "version": "3.6.5"
  }
 },
 "nbformat": 4,
 "nbformat_minor": 2
}
